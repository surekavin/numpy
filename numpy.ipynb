{
  "nbformat": 4,
  "nbformat_minor": 0,
  "metadata": {
    "colab": {
      "provenance": [],
      "authorship_tag": "ABX9TyMSBmC8sjen4lEAm8562yUO",
      "include_colab_link": true
    },
    "kernelspec": {
      "name": "python3",
      "display_name": "Python 3"
    },
    "language_info": {
      "name": "python"
    }
  },
  "cells": [
    {
      "cell_type": "markdown",
      "metadata": {
        "id": "view-in-github",
        "colab_type": "text"
      },
      "source": [
        "<a href=\"https://colab.research.google.com/github/surekavin/numpy/blob/main/numpy.ipynb\" target=\"_parent\"><img src=\"https://colab.research.google.com/assets/colab-badge.svg\" alt=\"Open In Colab\"/></a>"
      ]
    },
    {
      "cell_type": "code",
      "execution_count": 2,
      "metadata": {
        "id": "Bwmm2R4HTAp_"
      },
      "outputs": [],
      "source": [
        "#### 1. Import the numpy package under the name `np` (★☆☆) \n",
        "import numpy as np"
      ]
    },
    {
      "cell_type": "code",
      "source": [
        "#### 2. Print the numpy version and the configuration (★☆☆)\n",
        "print(np.__version__)\n",
        "print(np.show_config())"
      ],
      "metadata": {
        "colab": {
          "base_uri": "https://localhost:8080/"
        },
        "id": "RD98IxajTgiN",
        "outputId": "8a8cbb44-5b6d-4814-c589-e64d0f2deb46"
      },
      "execution_count": null,
      "outputs": [
        {
          "output_type": "stream",
          "name": "stdout",
          "text": [
            "1.21.6\n",
            "blas_mkl_info:\n",
            "  NOT AVAILABLE\n",
            "blis_info:\n",
            "  NOT AVAILABLE\n",
            "openblas_info:\n",
            "    libraries = ['openblas', 'openblas']\n",
            "    library_dirs = ['/usr/local/lib']\n",
            "    language = c\n",
            "    define_macros = [('HAVE_CBLAS', None)]\n",
            "    runtime_library_dirs = ['/usr/local/lib']\n",
            "blas_opt_info:\n",
            "    libraries = ['openblas', 'openblas']\n",
            "    library_dirs = ['/usr/local/lib']\n",
            "    language = c\n",
            "    define_macros = [('HAVE_CBLAS', None)]\n",
            "    runtime_library_dirs = ['/usr/local/lib']\n",
            "lapack_mkl_info:\n",
            "  NOT AVAILABLE\n",
            "openblas_lapack_info:\n",
            "    libraries = ['openblas', 'openblas']\n",
            "    library_dirs = ['/usr/local/lib']\n",
            "    language = c\n",
            "    define_macros = [('HAVE_CBLAS', None)]\n",
            "    runtime_library_dirs = ['/usr/local/lib']\n",
            "lapack_opt_info:\n",
            "    libraries = ['openblas', 'openblas']\n",
            "    library_dirs = ['/usr/local/lib']\n",
            "    language = c\n",
            "    define_macros = [('HAVE_CBLAS', None)]\n",
            "    runtime_library_dirs = ['/usr/local/lib']\n",
            "Supported SIMD extensions in this NumPy install:\n",
            "    baseline = SSE,SSE2,SSE3\n",
            "    found = SSSE3,SSE41,POPCNT,SSE42,AVX,F16C,FMA3,AVX2\n",
            "    not found = AVX512F,AVX512CD,AVX512_KNL,AVX512_KNM,AVX512_SKX,AVX512_CLX,AVX512_CNL,AVX512_ICL\n",
            "None\n"
          ]
        }
      ]
    },
    {
      "cell_type": "code",
      "source": [
        "#### 3. Create a null vector of size 10 (★☆☆)\n",
        "z=np.zeros(10)\n",
        "print(z)"
      ],
      "metadata": {
        "colab": {
          "base_uri": "https://localhost:8080/"
        },
        "id": "BdHlIAutUCZ1",
        "outputId": "afae6343-083d-45e2-ebd8-fd393375a9c1"
      },
      "execution_count": null,
      "outputs": [
        {
          "output_type": "stream",
          "name": "stdout",
          "text": [
            "[0. 0. 0. 0. 0. 0. 0. 0. 0. 0.]\n"
          ]
        }
      ]
    },
    {
      "cell_type": "code",
      "source": [
        "#### 4.  How to find the memory size of any array (★☆☆)\n",
        "n = np.zeros((4,4))\n",
        "print(\"%d bytes\" % (n.size * n.itemsize))"
      ],
      "metadata": {
        "colab": {
          "base_uri": "https://localhost:8080/"
        },
        "id": "NkLbkzxEVAxU",
        "outputId": "23a1adc5-9958-42c0-f103-c9a704b2f8d5"
      },
      "execution_count": null,
      "outputs": [
        {
          "output_type": "stream",
          "name": "stdout",
          "text": [
            "128 bytes\n"
          ]
        }
      ]
    },
    {
      "cell_type": "code",
      "source": [
        "#### 5.  How to get the documentation of the numpy add function from the command line? (★☆☆) \n",
        "print(np.info(np.add))"
      ],
      "metadata": {
        "colab": {
          "base_uri": "https://localhost:8080/"
        },
        "id": "Py8i1UutVopg",
        "outputId": "fedf058e-2cc6-413d-aebf-20457fabb491"
      },
      "execution_count": null,
      "outputs": [
        {
          "output_type": "stream",
          "name": "stdout",
          "text": [
            "add(x1, x2, /, out=None, *, where=True, casting='same_kind', order='K', dtype=None, subok=True[, signature, extobj])\n",
            "\n",
            "Add arguments element-wise.\n",
            "\n",
            "Parameters\n",
            "----------\n",
            "x1, x2 : array_like\n",
            "    The arrays to be added.\n",
            "    If ``x1.shape != x2.shape``, they must be broadcastable to a common\n",
            "    shape (which becomes the shape of the output).\n",
            "out : ndarray, None, or tuple of ndarray and None, optional\n",
            "    A location into which the result is stored. If provided, it must have\n",
            "    a shape that the inputs broadcast to. If not provided or None,\n",
            "    a freshly-allocated array is returned. A tuple (possible only as a\n",
            "    keyword argument) must have length equal to the number of outputs.\n",
            "where : array_like, optional\n",
            "    This condition is broadcast over the input. At locations where the\n",
            "    condition is True, the `out` array will be set to the ufunc result.\n",
            "    Elsewhere, the `out` array will retain its original value.\n",
            "    Note that if an uninitialized `out` array is created via the default\n",
            "    ``out=None``, locations within it where the condition is False will\n",
            "    remain uninitialized.\n",
            "**kwargs\n",
            "    For other keyword-only arguments, see the\n",
            "    :ref:`ufunc docs <ufuncs.kwargs>`.\n",
            "\n",
            "Returns\n",
            "-------\n",
            "add : ndarray or scalar\n",
            "    The sum of `x1` and `x2`, element-wise.\n",
            "    This is a scalar if both `x1` and `x2` are scalars.\n",
            "\n",
            "Notes\n",
            "-----\n",
            "Equivalent to `x1` + `x2` in terms of array broadcasting.\n",
            "\n",
            "Examples\n",
            "--------\n",
            ">>> np.add(1.0, 4.0)\n",
            "5.0\n",
            ">>> x1 = np.arange(9.0).reshape((3, 3))\n",
            ">>> x2 = np.arange(3.0)\n",
            ">>> np.add(x1, x2)\n",
            "array([[  0.,   2.,   4.],\n",
            "       [  3.,   5.,   7.],\n",
            "       [  6.,   8.,  10.]])\n",
            "\n",
            "The ``+`` operator can be used as a shorthand for ``np.add`` on ndarrays.\n",
            "\n",
            ">>> x1 = np.arange(9.0).reshape((3, 3))\n",
            ">>> x2 = np.arange(3.0)\n",
            ">>> x1 + x2\n",
            "array([[ 0.,  2.,  4.],\n",
            "       [ 3.,  5.,  7.],\n",
            "       [ 6.,  8., 10.]])\n",
            "None\n"
          ]
        }
      ]
    },
    {
      "cell_type": "code",
      "source": [
        "#### 6.  Create a null vector of size 10 but the fifth value which is 1 (★☆☆)\n",
        "z=np.zeros(10)\n",
        "z[4]=1\n",
        "print(z)"
      ],
      "metadata": {
        "colab": {
          "base_uri": "https://localhost:8080/"
        },
        "id": "yy-kzfavWc0z",
        "outputId": "4f03bb08-3ad1-4075-dccd-e15991da336c"
      },
      "execution_count": null,
      "outputs": [
        {
          "output_type": "stream",
          "name": "stdout",
          "text": [
            "[0. 0. 0. 0. 1. 0. 0. 0. 0. 0.]\n"
          ]
        }
      ]
    },
    {
      "cell_type": "code",
      "source": [
        "#### 7.  Create a vector with values ranging from 10 to 49 (★☆☆)\n",
        "x=np.arange(10,50)\n",
        "print(x)"
      ],
      "metadata": {
        "colab": {
          "base_uri": "https://localhost:8080/"
        },
        "id": "8UWuOVQAWrbS",
        "outputId": "11e7ec43-6939-4b24-b3ae-1da796c33ceb"
      },
      "execution_count": null,
      "outputs": [
        {
          "output_type": "stream",
          "name": "stdout",
          "text": [
            "[10 11 12 13 14 15 16 17 18 19 20 21 22 23 24 25 26 27 28 29 30 31 32 33\n",
            " 34 35 36 37 38 39 40 41 42 43 44 45 46 47 48 49]\n"
          ]
        }
      ]
    },
    {
      "cell_type": "code",
      "source": [
        "#### 8.  Reverse a vector (first element becomes last) (★☆☆)\n",
        "x=np.arange(10,50)\n",
        "x=x[::-1]\n",
        "print(x)"
      ],
      "metadata": {
        "colab": {
          "base_uri": "https://localhost:8080/"
        },
        "id": "h24vJhDrW3DT",
        "outputId": "3d215060-b308-4f3a-853d-9564cce51370"
      },
      "execution_count": null,
      "outputs": [
        {
          "output_type": "stream",
          "name": "stdout",
          "text": [
            "[49 48 47 46 45 44 43 42 41 40 39 38 37 36 35 34 33 32 31 30 29 28 27 26\n",
            " 25 24 23 22 21 20 19 18 17 16 15 14 13 12 11 10]\n"
          ]
        }
      ]
    },
    {
      "cell_type": "code",
      "source": [
        "#### 9.  Create a 3x3 matrix with values ranging from 0 to 8 (★☆☆)\n",
        "z=np.arange(9).reshape(3,3)\n",
        "print(z)"
      ],
      "metadata": {
        "colab": {
          "base_uri": "https://localhost:8080/"
        },
        "id": "hxH6vkxxXGHc",
        "outputId": "c78a5d49-19b9-44c4-aefb-abe479f9735e"
      },
      "execution_count": null,
      "outputs": [
        {
          "output_type": "stream",
          "name": "stdout",
          "text": [
            "[[0 1 2]\n",
            " [3 4 5]\n",
            " [6 7 8]]\n"
          ]
        }
      ]
    },
    {
      "cell_type": "code",
      "source": [
        "#### 10. Find indices of non-zero elements from \\[1,2,0,0,4,0\\] (★☆☆)\n",
        "nz=np.nonzero([1,2,0,0,4,0])\n",
        "print(nz)"
      ],
      "metadata": {
        "colab": {
          "base_uri": "https://localhost:8080/"
        },
        "id": "IYS_twD-Y7ls",
        "outputId": "cf9d7495-634c-4cb2-cff6-e6b5f589b526"
      },
      "execution_count": null,
      "outputs": [
        {
          "output_type": "stream",
          "name": "stdout",
          "text": [
            "(array([0, 1, 4]),)\n"
          ]
        }
      ]
    },
    {
      "cell_type": "code",
      "source": [
        "#### 11. Create a 3x3 identity matrix (★☆☆)\n",
        "z=np.eye(3)\n",
        "print(z)"
      ],
      "metadata": {
        "colab": {
          "base_uri": "https://localhost:8080/"
        },
        "id": "MD6mVb43ZX-b",
        "outputId": "29871739-1c81-4625-b818-853dc9b20136"
      },
      "execution_count": null,
      "outputs": [
        {
          "output_type": "stream",
          "name": "stdout",
          "text": [
            "[[1. 0. 0.]\n",
            " [0. 1. 0.]\n",
            " [0. 0. 1.]]\n"
          ]
        }
      ]
    },
    {
      "cell_type": "code",
      "source": [
        "#### 12. Create a 3x3x3 array with random values (★☆☆)\n",
        "z=np.random.uniform((3,3,3))\n",
        "print(z)"
      ],
      "metadata": {
        "colab": {
          "base_uri": "https://localhost:8080/"
        },
        "id": "WxkvXbBSZjmd",
        "outputId": "103bfcc2-301f-4387-8f81-51b7d2470f3f"
      },
      "execution_count": null,
      "outputs": [
        {
          "output_type": "stream",
          "name": "stdout",
          "text": [
            "[1.58167872 2.28384895 2.94761681]\n"
          ]
        }
      ]
    },
    {
      "cell_type": "code",
      "source": [
        "#### 13. Create a 10x10 array with random values and find the minimum and maximum values (★☆☆) \n",
        "z=np.random.random((10,10))\n",
        "zmin,zmax=z.min(),z.max()\n",
        "print(zmin,zmax)"
      ],
      "metadata": {
        "colab": {
          "base_uri": "https://localhost:8080/"
        },
        "id": "Xny4VPZcbXqr",
        "outputId": "07ea1866-6336-45de-9d60-3ea9541b47cd"
      },
      "execution_count": null,
      "outputs": [
        {
          "output_type": "stream",
          "name": "stdout",
          "text": [
            "0.01117543525952125 0.9956777434560328\n"
          ]
        }
      ]
    },
    {
      "cell_type": "code",
      "source": [
        "#### 14. Create a random vector of size 30 and find the mean value (★☆☆)\n",
        "z=np.random.random(30)\n",
        "m=z.mean()\n",
        "print(m)"
      ],
      "metadata": {
        "colab": {
          "base_uri": "https://localhost:8080/"
        },
        "id": "MhT6rJwnb10c",
        "outputId": "8b030785-b1ab-487d-8241-143108123b56"
      },
      "execution_count": null,
      "outputs": [
        {
          "output_type": "stream",
          "name": "stdout",
          "text": [
            "0.4285606932447965\n"
          ]
        }
      ]
    },
    {
      "cell_type": "code",
      "source": [
        "#### 15. Create a 2d array with 1 on the border and 0 inside (★☆☆)\n",
        "z=np.ones((10,10))\n",
        "z[1:-1,1:-1]=0\n",
        "print(z)"
      ],
      "metadata": {
        "colab": {
          "base_uri": "https://localhost:8080/"
        },
        "id": "VQsBtwo1cHH1",
        "outputId": "1130b35f-bed5-4f1b-f120-341168429735"
      },
      "execution_count": null,
      "outputs": [
        {
          "output_type": "stream",
          "name": "stdout",
          "text": [
            "[[1. 1. 1. 1. 1. 1. 1. 1. 1. 1.]\n",
            " [1. 0. 0. 0. 0. 0. 0. 0. 0. 1.]\n",
            " [1. 0. 0. 0. 0. 0. 0. 0. 0. 1.]\n",
            " [1. 0. 0. 0. 0. 0. 0. 0. 0. 1.]\n",
            " [1. 0. 0. 0. 0. 0. 0. 0. 0. 1.]\n",
            " [1. 0. 0. 0. 0. 0. 0. 0. 0. 1.]\n",
            " [1. 0. 0. 0. 0. 0. 0. 0. 0. 1.]\n",
            " [1. 0. 0. 0. 0. 0. 0. 0. 0. 1.]\n",
            " [1. 0. 0. 0. 0. 0. 0. 0. 0. 1.]\n",
            " [1. 1. 1. 1. 1. 1. 1. 1. 1. 1.]]\n"
          ]
        }
      ]
    },
    {
      "cell_type": "code",
      "source": [
        "#### 16. How to add a border (filled with 0's) around an existing array? (★☆☆)\n",
        "x=np.ones((3,3))\n",
        "x=np.pad(x,pad_width=1,mode='constant',constant_values=0)\n",
        "print(x)"
      ],
      "metadata": {
        "colab": {
          "base_uri": "https://localhost:8080/"
        },
        "id": "N_RixImjc7vt",
        "outputId": "b71a66cd-a89f-4e74-bfd3-f6f360934f6f"
      },
      "execution_count": null,
      "outputs": [
        {
          "output_type": "stream",
          "name": "stdout",
          "text": [
            "[[0. 0. 0. 0. 0.]\n",
            " [0. 1. 1. 1. 0.]\n",
            " [0. 1. 1. 1. 0.]\n",
            " [0. 1. 1. 1. 0.]\n",
            " [0. 0. 0. 0. 0.]]\n"
          ]
        }
      ]
    },
    {
      "cell_type": "code",
      "source": [
        "#### 17. What is the result of the following expression? (★☆☆)\n",
        "print(0*np.nan)\n",
        "print(np.nan==np.nan)\n",
        "print(np.inf>np.nan)\n",
        "print(np.nan-np.nan)\n",
        "print(0.3==3*0.1)"
      ],
      "metadata": {
        "colab": {
          "base_uri": "https://localhost:8080/"
        },
        "id": "WF-I6M9TeYnG",
        "outputId": "d82fcb19-6a2a-409e-e5f3-1c497244e558"
      },
      "execution_count": null,
      "outputs": [
        {
          "output_type": "stream",
          "name": "stdout",
          "text": [
            "nan\n",
            "False\n",
            "False\n",
            "nan\n",
            "False\n"
          ]
        }
      ]
    },
    {
      "cell_type": "code",
      "source": [
        "#### 18. Create a 5x5 matrix with values 1,2,3,4 just below the diagonal (★☆☆)\n",
        "z=np.diag(1+np.arange(4),k=-1)\n",
        "print(z)"
      ],
      "metadata": {
        "colab": {
          "base_uri": "https://localhost:8080/"
        },
        "id": "cBKXzCZmf0Rm",
        "outputId": "7884cc05-b8a4-40e2-a6c3-4abf9c34abdb"
      },
      "execution_count": null,
      "outputs": [
        {
          "output_type": "stream",
          "name": "stdout",
          "text": [
            "[[0 0 0 0 0]\n",
            " [1 0 0 0 0]\n",
            " [0 2 0 0 0]\n",
            " [0 0 3 0 0]\n",
            " [0 0 0 4 0]]\n"
          ]
        }
      ]
    },
    {
      "cell_type": "code",
      "source": [
        "#### 19. Create a 8x8 matrix and fill it with a checkerboard pattern (★☆☆) \n",
        "z=np.zeros((8,8),dtype=int)\n",
        "z[1::2,::2]=1\n",
        "z[::2,1::2]=1\n",
        "print(z)"
      ],
      "metadata": {
        "colab": {
          "base_uri": "https://localhost:8080/"
        },
        "id": "wHLtWLbMgT9M",
        "outputId": "dc9c3dca-7a3f-4072-eb25-a1574b47413a"
      },
      "execution_count": null,
      "outputs": [
        {
          "output_type": "stream",
          "name": "stdout",
          "text": [
            "[[0 1 0 1 0 1 0 1]\n",
            " [1 0 1 0 1 0 1 0]\n",
            " [0 1 0 1 0 1 0 1]\n",
            " [1 0 1 0 1 0 1 0]\n",
            " [0 1 0 1 0 1 0 1]\n",
            " [1 0 1 0 1 0 1 0]\n",
            " [0 1 0 1 0 1 0 1]\n",
            " [1 0 1 0 1 0 1 0]]\n"
          ]
        }
      ]
    },
    {
      "cell_type": "code",
      "source": [
        "#### 20. Consider a (6,7,8) shape array, what is the index (x,y,z) of the 100th element? \n",
        "print(np.unravel_index(100,(6,7,8)))"
      ],
      "metadata": {
        "colab": {
          "base_uri": "https://localhost:8080/"
        },
        "id": "LHt-U1cmhSia",
        "outputId": "8431831b-fbfd-4812-f124-03f0428016da"
      },
      "execution_count": null,
      "outputs": [
        {
          "output_type": "stream",
          "name": "stdout",
          "text": [
            "(1, 5, 4)\n"
          ]
        }
      ]
    },
    {
      "cell_type": "code",
      "source": [
        "#### 21. Create a checkerboard 8x8 matrix using the tile function (★☆☆)\n",
        "array=np.array([[0,1],[1,0]])\n",
        "z=np.tile(array,(4,4))\n",
        "print(z)"
      ],
      "metadata": {
        "colab": {
          "base_uri": "https://localhost:8080/"
        },
        "id": "-gfJ5auDhwAA",
        "outputId": "cfaf37bf-341a-489f-80d0-312e7bb7247f"
      },
      "execution_count": null,
      "outputs": [
        {
          "output_type": "stream",
          "name": "stdout",
          "text": [
            "[[0 1 0 1 0 1 0 1]\n",
            " [1 0 1 0 1 0 1 0]\n",
            " [0 1 0 1 0 1 0 1]\n",
            " [1 0 1 0 1 0 1 0]\n",
            " [0 1 0 1 0 1 0 1]\n",
            " [1 0 1 0 1 0 1 0]\n",
            " [0 1 0 1 0 1 0 1]\n",
            " [1 0 1 0 1 0 1 0]]\n"
          ]
        }
      ]
    },
    {
      "cell_type": "code",
      "source": [
        "#### 22. Normalize a 5x5 random matrix (★☆☆) \n",
        "z=np.random.random((5,5))\n",
        "zmax,zmin=z.max(),z.min()\n",
        "z=(z-zmin)/(zmax-zmin)\n",
        "print(z)"
      ],
      "metadata": {
        "colab": {
          "base_uri": "https://localhost:8080/"
        },
        "id": "YHAeYdo8i1Ib",
        "outputId": "3986f0c6-4197-46e5-fc2c-d07962f5d864"
      },
      "execution_count": null,
      "outputs": [
        {
          "output_type": "stream",
          "name": "stdout",
          "text": [
            "[[0.72155246 0.38951315 0.31060446 0.21416394 0.55678966]\n",
            " [0.88487791 0.48111922 0.35432393 0.25534835 0.        ]\n",
            " [0.35479956 0.71856258 0.82638562 0.66575262 0.96407979]\n",
            " [0.07990975 0.18989922 0.9650577  0.87401809 1.        ]\n",
            " [0.3509261  0.01448253 0.4408151  0.36967051 0.54891135]]\n"
          ]
        }
      ]
    },
    {
      "cell_type": "code",
      "source": [
        "#### 23. Create a custom dtype that describes a color as four unsigned bytes (RGBA) (★☆☆) \n",
        "color=np.dtype([(\"r\",np.ubyte),\n",
        "                (\"g\",np.ubyte),\n",
        "                (\"b\",np.ubyte),\n",
        "                (\"a\",np.ubyte)])\n",
        "print(color)"
      ],
      "metadata": {
        "colab": {
          "base_uri": "https://localhost:8080/"
        },
        "id": "JLiYQ7-HjYTT",
        "outputId": "21eb5ca0-fd21-4680-d719-7dc8a5cd0053"
      },
      "execution_count": null,
      "outputs": [
        {
          "output_type": "stream",
          "name": "stdout",
          "text": [
            "[('r', 'u1'), ('g', 'u1'), ('b', 'u1'), ('a', 'u1')]\n"
          ]
        }
      ]
    },
    {
      "cell_type": "code",
      "source": [
        "#### 24. Multiply a 5x3 matrix by a 3x2 matrix (real matrix product) (★☆☆)\n",
        "z=np.dot(np.ones((5,3)),np.ones((3,2)))\n",
        "print(z)"
      ],
      "metadata": {
        "colab": {
          "base_uri": "https://localhost:8080/"
        },
        "id": "-UHh-uusksnK",
        "outputId": "25f0ec3c-18af-4376-a589-7ed02ef6ed91"
      },
      "execution_count": null,
      "outputs": [
        {
          "output_type": "stream",
          "name": "stdout",
          "text": [
            "[[3. 3.]\n",
            " [3. 3.]\n",
            " [3. 3.]\n",
            " [3. 3.]\n",
            " [3. 3.]]\n"
          ]
        }
      ]
    },
    {
      "cell_type": "code",
      "source": [
        "#### 25. Given a 1D array, negate all elements which are between 3 and 8, in place. (★☆☆) \n",
        "z=np.arange(11)\n",
        "z[(3<z)&(z<8)]*=-1\n",
        "print(z)"
      ],
      "metadata": {
        "colab": {
          "base_uri": "https://localhost:8080/"
        },
        "id": "SMhSSzYolmGt",
        "outputId": "ed022299-6138-471f-9308-722905a72e2b"
      },
      "execution_count": null,
      "outputs": [
        {
          "output_type": "stream",
          "name": "stdout",
          "text": [
            "[ 0  1  2  3 -4 -5 -6 -7  8  9 10]\n"
          ]
        }
      ]
    },
    {
      "cell_type": "code",
      "source": [
        "#### 26. What is the output of the following script? (★☆☆) \n",
        "print(sum(range(5),-1))"
      ],
      "metadata": {
        "colab": {
          "base_uri": "https://localhost:8080/"
        },
        "id": "CeaT_XnSmY8_",
        "outputId": "0836ec1d-c4a8-42c5-a1c9-da2900c1509f"
      },
      "execution_count": null,
      "outputs": [
        {
          "output_type": "stream",
          "name": "stdout",
          "text": [
            "9\n"
          ]
        }
      ]
    },
    {
      "cell_type": "code",
      "source": [
        "#### 27. Consider an integer vector Z, which of these expressions are legal?\n",
        "Z**Z\n",
        "2 << Z >> 2\n",
        "Z <- Z\n",
        "1j*Z\n",
        "Z/1/1\n",
        "Z<Z>Z"
      ],
      "metadata": {
        "colab": {
          "base_uri": "https://localhost:8080/",
          "height": 235
        },
        "id": "ggj6lefQmqKu",
        "outputId": "0b095624-8911-4355-f9a7-5a3fa4d4faeb"
      },
      "execution_count": null,
      "outputs": [
        {
          "output_type": "error",
          "ename": "NameError",
          "evalue": "ignored",
          "traceback": [
            "\u001b[0;31m---------------------------------------------------------------------------\u001b[0m",
            "\u001b[0;31mNameError\u001b[0m                                 Traceback (most recent call last)",
            "\u001b[0;32m<ipython-input-16-c96bba7f9801>\u001b[0m in \u001b[0;36m<module>\u001b[0;34m\u001b[0m\n\u001b[1;32m      1\u001b[0m \u001b[0;31m#### 27. Consider an integer vector Z, which of these expressions are legal?\u001b[0m\u001b[0;34m\u001b[0m\u001b[0;34m\u001b[0m\u001b[0;34m\u001b[0m\u001b[0m\n\u001b[0;32m----> 2\u001b[0;31m \u001b[0mZ\u001b[0m\u001b[0;34m**\u001b[0m\u001b[0mZ\u001b[0m\u001b[0;34m\u001b[0m\u001b[0;34m\u001b[0m\u001b[0m\n\u001b[0m\u001b[1;32m      3\u001b[0m \u001b[0;36m2\u001b[0m \u001b[0;34m<<\u001b[0m \u001b[0mZ\u001b[0m \u001b[0;34m>>\u001b[0m \u001b[0;36m2\u001b[0m\u001b[0;34m\u001b[0m\u001b[0;34m\u001b[0m\u001b[0m\n\u001b[1;32m      4\u001b[0m \u001b[0mZ\u001b[0m \u001b[0;34m<\u001b[0m\u001b[0;34m-\u001b[0m \u001b[0mZ\u001b[0m\u001b[0;34m\u001b[0m\u001b[0;34m\u001b[0m\u001b[0m\n\u001b[1;32m      5\u001b[0m \u001b[0;36m1j\u001b[0m\u001b[0;34m*\u001b[0m\u001b[0mZ\u001b[0m\u001b[0;34m\u001b[0m\u001b[0;34m\u001b[0m\u001b[0m\n",
            "\u001b[0;31mNameError\u001b[0m: name 'Z' is not defined"
          ]
        }
      ]
    },
    {
      "cell_type": "code",
      "source": [
        "#### 28. What are the result of the following expressions?\n",
        "print(np.array(0) / np.array(0))\n",
        "print(np.array(0) // np.array(0))\n",
        "print(np.array([np.nan]).astype(int).astype(float))"
      ],
      "metadata": {
        "id": "9qm1TqWWoWzw",
        "colab": {
          "base_uri": "https://localhost:8080/"
        },
        "outputId": "9a283e94-5c65-4898-c45f-df3e0155b6e1"
      },
      "execution_count": null,
      "outputs": [
        {
          "output_type": "stream",
          "name": "stdout",
          "text": [
            "nan\n",
            "0\n",
            "[-9.22337204e+18]\n"
          ]
        },
        {
          "output_type": "stream",
          "name": "stderr",
          "text": [
            "/usr/local/lib/python3.7/dist-packages/ipykernel_launcher.py:2: RuntimeWarning: invalid value encountered in true_divide\n",
            "  \n",
            "/usr/local/lib/python3.7/dist-packages/ipykernel_launcher.py:3: RuntimeWarning: divide by zero encountered in floor_divide\n",
            "  This is separate from the ipykernel package so we can avoid doing imports until\n"
          ]
        }
      ]
    },
    {
      "cell_type": "code",
      "source": [
        "#### 29. How to round away from zero a float array ? (★☆☆)\n",
        "z=np.random.uniform(-10,+10,10)\n",
        "print(np.copysign(np.ceil(np.abs(z)),z))\n",
        "print(np.where(z<0,np.ceil(z),np.floor(z)))"
      ],
      "metadata": {
        "colab": {
          "base_uri": "https://localhost:8080/"
        },
        "id": "AOVY59WromQ8",
        "outputId": "36df94f1-b292-44f9-85ee-b336adcc5182"
      },
      "execution_count": null,
      "outputs": [
        {
          "output_type": "stream",
          "name": "stdout",
          "text": [
            "[ -8.  -8.  -7.  10.  -2. -10.  -4.   5.  -1.  10.]\n",
            "[-7. -7. -6.  9. -1. -9. -3.  4. -0.  9.]\n"
          ]
        }
      ]
    },
    {
      "cell_type": "code",
      "source": [
        "#### 30. How to find common values between two arrays? (★☆☆)\n",
        "z1=np.random.randint(0,10,10)\n",
        "z2=np.random.randint(0,10,10)\n",
        "print(np.intersect1d(z1,z2))"
      ],
      "metadata": {
        "colab": {
          "base_uri": "https://localhost:8080/"
        },
        "id": "pF_Ztxh9rxaF",
        "outputId": "585833ab-6c16-4e0a-b394-9f4a7dbcd2ad"
      },
      "execution_count": null,
      "outputs": [
        {
          "output_type": "stream",
          "name": "stdout",
          "text": [
            "[2 3 4 6 8]\n"
          ]
        }
      ]
    },
    {
      "cell_type": "code",
      "source": [
        "#### 31. How to ignore all numpy warnings (not recommended)? (★☆☆)\n",
        "defaults=np.seterr(all=\"ignore\")\n",
        "z=np.ones(1)/0\n",
        "_=np.seterr(**defaults)\n",
        "with np.errstate(all=\"ignore\"):\n",
        "  np.arange(3)/0"
      ],
      "metadata": {
        "id": "f2yxHW7tCO9K"
      },
      "execution_count": null,
      "outputs": []
    },
    {
      "cell_type": "code",
      "source": [
        "#### 32. Is the following expressions true? (★☆☆)\n",
        "import math\n",
        "np.sqrt(-1)==np.emath.sqrt(-1)"
      ],
      "metadata": {
        "colab": {
          "base_uri": "https://localhost:8080/"
        },
        "id": "68vaDWDhEF_n",
        "outputId": "1c43af6c-296e-4d58-a014-6efc21d7a6d0"
      },
      "execution_count": null,
      "outputs": [
        {
          "output_type": "stream",
          "name": "stderr",
          "text": [
            "/usr/local/lib/python3.7/dist-packages/ipykernel_launcher.py:3: RuntimeWarning: invalid value encountered in sqrt\n",
            "  This is separate from the ipykernel package so we can avoid doing imports until\n"
          ]
        },
        {
          "output_type": "execute_result",
          "data": {
            "text/plain": [
              "False"
            ]
          },
          "metadata": {},
          "execution_count": 7
        }
      ]
    },
    {
      "cell_type": "code",
      "source": [
        "#### 33. How to get the dates of yesterday, today and tomorrow? (★☆☆)\n",
        "yesterday=np.datetime64('today')-np.timedelta64(1)\n",
        "today=np.datetime64('today')\n",
        "tomorrow=np.datetime64('today')+np.timedelta64(1)\n"
      ],
      "metadata": {
        "id": "_0SVLcR3CIUZ"
      },
      "execution_count": null,
      "outputs": []
    },
    {
      "cell_type": "code",
      "source": [
        "#### 34. How to get all the dates corresponding to the month of July 2016?\n",
        "z=np.arange('2016-07','2016-08',dtype='datetime64[D]')\n",
        "print(z)"
      ],
      "metadata": {
        "colab": {
          "base_uri": "https://localhost:8080/"
        },
        "id": "WCkmyPWJHG36",
        "outputId": "65623b7d-aea2-4111-890a-3959f1451ebc"
      },
      "execution_count": null,
      "outputs": [
        {
          "output_type": "stream",
          "name": "stdout",
          "text": [
            "['2016-07-01' '2016-07-02' '2016-07-03' '2016-07-04' '2016-07-05'\n",
            " '2016-07-06' '2016-07-07' '2016-07-08' '2016-07-09' '2016-07-10'\n",
            " '2016-07-11' '2016-07-12' '2016-07-13' '2016-07-14' '2016-07-15'\n",
            " '2016-07-16' '2016-07-17' '2016-07-18' '2016-07-19' '2016-07-20'\n",
            " '2016-07-21' '2016-07-22' '2016-07-23' '2016-07-24' '2016-07-25'\n",
            " '2016-07-26' '2016-07-27' '2016-07-28' '2016-07-29' '2016-07-30'\n",
            " '2016-07-31']\n"
          ]
        }
      ]
    },
    {
      "cell_type": "code",
      "source": [
        "#### 35. How to compute ((A+B)\\*(-A/2)) in place (without copy)? (★★☆)\n",
        "A=np.ones(3)*1\n",
        "B=np.ones(3)*2\n",
        "np.add(A,B,out=B)\n",
        "np.divide(A,2,out=A)\n",
        "np.negative(A,out=A)\n",
        "np.multiply(A,B,out=A)"
      ],
      "metadata": {
        "colab": {
          "base_uri": "https://localhost:8080/"
        },
        "id": "25c8bDRDHoW0",
        "outputId": "49858316-1632-4723-f85f-7368247a06f2"
      },
      "execution_count": null,
      "outputs": [
        {
          "output_type": "execute_result",
          "data": {
            "text/plain": [
              "array([-1.5, -1.5, -1.5])"
            ]
          },
          "metadata": {},
          "execution_count": 13
        }
      ]
    },
    {
      "cell_type": "code",
      "source": [
        "#### 36. Extract the integer part of a random array using 5 different methods\n",
        "z=np.random.uniform(0,10,10)\n",
        "print(z-z%1)\n",
        "print(np.floor(z))\n",
        "print(np.ceil(z)-1)\n",
        "print(z.astype(int))\n",
        "print(np.trunc(z))"
      ],
      "metadata": {
        "colab": {
          "base_uri": "https://localhost:8080/"
        },
        "id": "aQxyd5v8JKoe",
        "outputId": "a0a2f5ff-9fed-40c3-b454-1a1c839f57a3"
      },
      "execution_count": null,
      "outputs": [
        {
          "output_type": "stream",
          "name": "stdout",
          "text": [
            "[3. 7. 7. 0. 5. 8. 1. 1. 4. 8.]\n",
            "[3. 7. 7. 0. 5. 8. 1. 1. 4. 8.]\n",
            "[3. 7. 7. 0. 5. 8. 1. 1. 4. 8.]\n",
            "[3 7 7 0 5 8 1 1 4 8]\n",
            "[3. 7. 7. 0. 5. 8. 1. 1. 4. 8.]\n"
          ]
        }
      ]
    },
    {
      "cell_type": "code",
      "source": [
        "#### 37. Create a 5x5 matrix with row values ranging from 0 to 4 (★★☆) \n",
        "z=np.zeros((5,5))\n",
        "z+=np.arange(5)\n",
        "print(z)"
      ],
      "metadata": {
        "colab": {
          "base_uri": "https://localhost:8080/"
        },
        "id": "MchqgZlxKVod",
        "outputId": "162fa0d6-38aa-4a11-cc22-76a2ea8933fc"
      },
      "execution_count": null,
      "outputs": [
        {
          "output_type": "stream",
          "name": "stdout",
          "text": [
            "[[0. 1. 2. 3. 4.]\n",
            " [0. 1. 2. 3. 4.]\n",
            " [0. 1. 2. 3. 4.]\n",
            " [0. 1. 2. 3. 4.]\n",
            " [0. 1. 2. 3. 4.]]\n"
          ]
        }
      ]
    },
    {
      "cell_type": "code",
      "source": [
        "#### 38. Consider a generator function that generates 10 integers and use it to build an array (★☆☆)\n",
        "def generate():\n",
        "  for x in range(10):\n",
        "    yield x\n",
        "z=np.fromiter(generate(),dtype=float,count=-1)\n",
        "print(z)    "
      ],
      "metadata": {
        "colab": {
          "base_uri": "https://localhost:8080/"
        },
        "id": "FrYiUuLQK_ei",
        "outputId": "1819ee54-b54e-45a0-aa0f-8da45418d9ee"
      },
      "execution_count": null,
      "outputs": [
        {
          "output_type": "stream",
          "name": "stdout",
          "text": [
            "[0. 1. 2. 3. 4. 5. 6. 7. 8. 9.]\n"
          ]
        }
      ]
    },
    {
      "cell_type": "code",
      "source": [
        "#### 39. Create a vector of size 10 with values ranging from 0 to 1, both excluded (★★☆) \n",
        "z=np.linspace(0,1,11,endpoint=False)[1:]\n",
        "print(z)"
      ],
      "metadata": {
        "colab": {
          "base_uri": "https://localhost:8080/"
        },
        "id": "edJpcLRkLxWE",
        "outputId": "a7c24b61-85cb-40a8-ef3d-29bf8ee1cff7"
      },
      "execution_count": null,
      "outputs": [
        {
          "output_type": "stream",
          "name": "stdout",
          "text": [
            "[0.09090909 0.18181818 0.27272727 0.36363636 0.45454545 0.54545455\n",
            " 0.63636364 0.72727273 0.81818182 0.90909091]\n"
          ]
        }
      ]
    },
    {
      "cell_type": "code",
      "source": [
        "#### 40. Create a random vector of size 10 and sort it (★★☆)\n",
        "z=np.random.random(10)\n",
        "z.sort()\n",
        "print(z)"
      ],
      "metadata": {
        "colab": {
          "base_uri": "https://localhost:8080/"
        },
        "id": "hrN4hoKrMVHv",
        "outputId": "fbc0f624-3f75-43b8-d9fe-e0f90b3a0556"
      },
      "execution_count": null,
      "outputs": [
        {
          "output_type": "stream",
          "name": "stdout",
          "text": [
            "[0.11578112 0.21306719 0.22340127 0.45689565 0.52545507 0.5500071\n",
            " 0.59396277 0.72154725 0.74391663 0.8715717 ]\n"
          ]
        }
      ]
    },
    {
      "cell_type": "code",
      "source": [
        "#### 41. How to sum a small array faster than np.sum? (★★☆)\n",
        "z=np.arange(10)\n",
        "np.add.reduce(z)"
      ],
      "metadata": {
        "colab": {
          "base_uri": "https://localhost:8080/"
        },
        "id": "SmI5P2KrMmvo",
        "outputId": "47fab475-cfbc-4dd9-80d2-70bee4a6c450"
      },
      "execution_count": null,
      "outputs": [
        {
          "output_type": "execute_result",
          "data": {
            "text/plain": [
              "45"
            ]
          },
          "metadata": {},
          "execution_count": 24
        }
      ]
    },
    {
      "cell_type": "code",
      "source": [
        "#### 42. Consider two random array A and B, check if they are equal (★★☆)\n",
        "A=np.random.randint(0,2,5)\n",
        "B=np.random.randint(0,2,5)\n",
        "equal=np.allclose(A,B)\n",
        "print(equal)\n",
        "equal=np.array_equal(A,B)\n",
        "print(equal)"
      ],
      "metadata": {
        "colab": {
          "base_uri": "https://localhost:8080/"
        },
        "id": "gUVaKw-XM3zp",
        "outputId": "6ba42f4f-c749-4cf3-d999-b220070b383e"
      },
      "execution_count": null,
      "outputs": [
        {
          "output_type": "stream",
          "name": "stdout",
          "text": [
            "False\n",
            "False\n"
          ]
        }
      ]
    },
    {
      "cell_type": "code",
      "source": [
        "#### 43. Make an array immutable (read-only) (★★☆)\n",
        "z=np.zeros(0)\n",
        "z.flags.writeable=False\n",
        "z[0]=1"
      ],
      "metadata": {
        "colab": {
          "base_uri": "https://localhost:8080/",
          "height": 200
        },
        "id": "GZJtUuVvNmde",
        "outputId": "aa671682-823d-4e87-ea9d-f58a7cf73438"
      },
      "execution_count": null,
      "outputs": [
        {
          "output_type": "error",
          "ename": "ValueError",
          "evalue": "ignored",
          "traceback": [
            "\u001b[0;31m---------------------------------------------------------------------------\u001b[0m",
            "\u001b[0;31mValueError\u001b[0m                                Traceback (most recent call last)",
            "\u001b[0;32m<ipython-input-27-6d44b651faba>\u001b[0m in \u001b[0;36m<module>\u001b[0;34m\u001b[0m\n\u001b[1;32m      2\u001b[0m \u001b[0mz\u001b[0m\u001b[0;34m=\u001b[0m\u001b[0mnp\u001b[0m\u001b[0;34m.\u001b[0m\u001b[0mzeros\u001b[0m\u001b[0;34m(\u001b[0m\u001b[0;36m0\u001b[0m\u001b[0;34m)\u001b[0m\u001b[0;34m\u001b[0m\u001b[0;34m\u001b[0m\u001b[0m\n\u001b[1;32m      3\u001b[0m \u001b[0mz\u001b[0m\u001b[0;34m.\u001b[0m\u001b[0mflags\u001b[0m\u001b[0;34m.\u001b[0m\u001b[0mwriteable\u001b[0m\u001b[0;34m=\u001b[0m\u001b[0;32mFalse\u001b[0m\u001b[0;34m\u001b[0m\u001b[0;34m\u001b[0m\u001b[0m\n\u001b[0;32m----> 4\u001b[0;31m \u001b[0mz\u001b[0m\u001b[0;34m[\u001b[0m\u001b[0;36m0\u001b[0m\u001b[0;34m]\u001b[0m\u001b[0;34m=\u001b[0m\u001b[0;36m1\u001b[0m\u001b[0;34m\u001b[0m\u001b[0;34m\u001b[0m\u001b[0m\n\u001b[0m",
            "\u001b[0;31mValueError\u001b[0m: assignment destination is read-only"
          ]
        }
      ]
    },
    {
      "cell_type": "code",
      "source": [
        "#### 44. Consider a random 10x2 matrix representing cartesian coordinates, convert them to polar coordinates (★★☆)\n",
        "z=np.random.random((10,2))\n",
        "X,Y=z[:,0],z[:,1]\n",
        "R=np.sqrt(X**2+Y**2)\n",
        "T=np.arctan2(Y,X)\n",
        "print(R)\n",
        "print(T)"
      ],
      "metadata": {
        "colab": {
          "base_uri": "https://localhost:8080/"
        },
        "id": "RjaZvDHbOH5F",
        "outputId": "66e632ea-bb1c-4f02-fc5b-cb214fee6f57"
      },
      "execution_count": null,
      "outputs": [
        {
          "output_type": "stream",
          "name": "stdout",
          "text": [
            "[1.12305971 0.81690563 0.91124426 0.63127728 0.88211502 1.21379593\n",
            " 0.55141847 1.00616058 0.5710693  0.42700259]\n",
            "[0.78355665 0.14180087 0.71756386 1.48657882 0.57731422 0.63123136\n",
            " 0.27498967 1.16646008 1.08213685 1.51507545]\n"
          ]
        }
      ]
    },
    {
      "cell_type": "code",
      "source": [
        "#### 45. Create random vector of size 10 and replace the maximum value by 0 (★★☆) \n",
        "z=np.random.random(10)\n",
        "z[z.argmax()]=0\n",
        "print(z)"
      ],
      "metadata": {
        "colab": {
          "base_uri": "https://localhost:8080/"
        },
        "id": "Nr6xqthWOH89",
        "outputId": "b5d21bdb-e39f-4453-ffb0-4e26241f57b1"
      },
      "execution_count": null,
      "outputs": [
        {
          "output_type": "stream",
          "name": "stdout",
          "text": [
            "[0.93088573 0.38868698 0.         0.64966686 0.32462279 0.73002557\n",
            " 0.57702989 0.47829732 0.05583646 0.83682321]\n"
          ]
        }
      ]
    },
    {
      "cell_type": "code",
      "source": [
        "#### 46. Create a structured array with `x` and `y` coordinates covering the \\[0,1\\]x\\[0,1\\] area (★★☆) \n",
        "Z = np.zeros((5,5), [('x',float),('y',float)])\n",
        "Z['x'], Z['y'] = np.meshgrid(np.linspace(0,1,5),\n",
        "                             np.linspace(0,1,5))\n",
        "print(Z)"
      ],
      "metadata": {
        "colab": {
          "base_uri": "https://localhost:8080/"
        },
        "id": "mldc-lL_PhPA",
        "outputId": "1d360f06-6fe2-46ff-a3de-07b6cc7af9c8"
      },
      "execution_count": null,
      "outputs": [
        {
          "output_type": "stream",
          "name": "stdout",
          "text": [
            "[[(0.  , 0.  ) (0.25, 0.  ) (0.5 , 0.  ) (0.75, 0.  ) (1.  , 0.  )]\n",
            " [(0.  , 0.25) (0.25, 0.25) (0.5 , 0.25) (0.75, 0.25) (1.  , 0.25)]\n",
            " [(0.  , 0.5 ) (0.25, 0.5 ) (0.5 , 0.5 ) (0.75, 0.5 ) (1.  , 0.5 )]\n",
            " [(0.  , 0.75) (0.25, 0.75) (0.5 , 0.75) (0.75, 0.75) (1.  , 0.75)]\n",
            " [(0.  , 1.  ) (0.25, 1.  ) (0.5 , 1.  ) (0.75, 1.  ) (1.  , 1.  )]]\n"
          ]
        }
      ]
    },
    {
      "cell_type": "code",
      "source": [
        "####  47. Given two arrays, X and Y, construct the Cauchy matrix C (Cij =1/(xi - yj)) \n",
        "x=np.arange(8)\n",
        "y=x+0.5\n",
        "c=1.0/np.subtract.outer(x,y)\n",
        "print(np.linalg.det(c))\n"
      ],
      "metadata": {
        "colab": {
          "base_uri": "https://localhost:8080/"
        },
        "id": "70R-8j4_P1g1",
        "outputId": "94b13091-fa7c-469c-83f3-174a9e36ec79"
      },
      "execution_count": null,
      "outputs": [
        {
          "output_type": "stream",
          "name": "stdout",
          "text": [
            "3638.163637117973\n"
          ]
        }
      ]
    },
    {
      "cell_type": "code",
      "source": [
        "#### 48. Print the minimum and maximum representable value for each numpy scalar type (★★☆) \n",
        "for dtype in [np.int8, np.int32, np.int64]:\n",
        "   print(np.iinfo(dtype).min)\n",
        "   print(np.iinfo(dtype).max)\n",
        "for dtype in [np.float32, np.float64]:\n",
        "   print(np.finfo(dtype).min)\n",
        "   print(np.finfo(dtype).max)\n",
        "   print(np.finfo(dtype).eps)"
      ],
      "metadata": {
        "colab": {
          "base_uri": "https://localhost:8080/"
        },
        "id": "E4n8EbDIQiln",
        "outputId": "870cfd9a-1db3-4491-e199-62a3c4d8e0d9"
      },
      "execution_count": null,
      "outputs": [
        {
          "output_type": "stream",
          "name": "stdout",
          "text": [
            "-128\n",
            "127\n",
            "-2147483648\n",
            "2147483647\n",
            "-9223372036854775808\n",
            "9223372036854775807\n",
            "-3.4028235e+38\n",
            "3.4028235e+38\n",
            "1.1920929e-07\n",
            "-1.7976931348623157e+308\n",
            "1.7976931348623157e+308\n",
            "2.220446049250313e-16\n"
          ]
        }
      ]
    },
    {
      "cell_type": "code",
      "source": [
        "#### 49. How to print all the values of an array? (★★☆)\n",
        "np.set_printoptions()\n",
        "Z = np.zeros((16,16))\n",
        "print(Z)"
      ],
      "metadata": {
        "colab": {
          "base_uri": "https://localhost:8080/"
        },
        "id": "NAGq4IvTRC3f",
        "outputId": "acad8aa6-8844-4b0e-8cf1-438cca04e32b"
      },
      "execution_count": null,
      "outputs": [
        {
          "output_type": "stream",
          "name": "stdout",
          "text": [
            "[[0. 0. 0. 0. 0. 0. 0. 0. 0. 0. 0. 0. 0. 0. 0. 0.]\n",
            " [0. 0. 0. 0. 0. 0. 0. 0. 0. 0. 0. 0. 0. 0. 0. 0.]\n",
            " [0. 0. 0. 0. 0. 0. 0. 0. 0. 0. 0. 0. 0. 0. 0. 0.]\n",
            " [0. 0. 0. 0. 0. 0. 0. 0. 0. 0. 0. 0. 0. 0. 0. 0.]\n",
            " [0. 0. 0. 0. 0. 0. 0. 0. 0. 0. 0. 0. 0. 0. 0. 0.]\n",
            " [0. 0. 0. 0. 0. 0. 0. 0. 0. 0. 0. 0. 0. 0. 0. 0.]\n",
            " [0. 0. 0. 0. 0. 0. 0. 0. 0. 0. 0. 0. 0. 0. 0. 0.]\n",
            " [0. 0. 0. 0. 0. 0. 0. 0. 0. 0. 0. 0. 0. 0. 0. 0.]\n",
            " [0. 0. 0. 0. 0. 0. 0. 0. 0. 0. 0. 0. 0. 0. 0. 0.]\n",
            " [0. 0. 0. 0. 0. 0. 0. 0. 0. 0. 0. 0. 0. 0. 0. 0.]\n",
            " [0. 0. 0. 0. 0. 0. 0. 0. 0. 0. 0. 0. 0. 0. 0. 0.]\n",
            " [0. 0. 0. 0. 0. 0. 0. 0. 0. 0. 0. 0. 0. 0. 0. 0.]\n",
            " [0. 0. 0. 0. 0. 0. 0. 0. 0. 0. 0. 0. 0. 0. 0. 0.]\n",
            " [0. 0. 0. 0. 0. 0. 0. 0. 0. 0. 0. 0. 0. 0. 0. 0.]\n",
            " [0. 0. 0. 0. 0. 0. 0. 0. 0. 0. 0. 0. 0. 0. 0. 0.]\n",
            " [0. 0. 0. 0. 0. 0. 0. 0. 0. 0. 0. 0. 0. 0. 0. 0.]]\n"
          ]
        }
      ]
    },
    {
      "cell_type": "code",
      "source": [
        "#### 50. How to find the closest value (to a given scalar) in a vector? (★★☆)\n",
        "z=np.arange(100)\n",
        "v=np.random.uniform(0,100)\n",
        "index=(np.abs(z-v)).argmin()\n",
        "print(z[index])"
      ],
      "metadata": {
        "colab": {
          "base_uri": "https://localhost:8080/"
        },
        "id": "x-QPxEk6SCWA",
        "outputId": "6f8bace0-cc6d-47df-a996-f0c1220c580c"
      },
      "execution_count": null,
      "outputs": [
        {
          "output_type": "stream",
          "name": "stdout",
          "text": [
            "16\n"
          ]
        }
      ]
    },
    {
      "cell_type": "code",
      "source": [
        "#### 51. Create a structured array representing a position (x,y) and a color (r,g,b) (★★☆) \n",
        "Z = np.zeros(10, [ ('position', [ ('x', float, 1),\n",
        "                                  ('y', float, 1)]),\n",
        "                   ('color',    [ ('r', float, 1),\n",
        "                                  ('g', float, 1),\n",
        "                                  ('b', float, 1)])])\n",
        "print(Z)"
      ],
      "metadata": {
        "colab": {
          "base_uri": "https://localhost:8080/"
        },
        "id": "sjlqS8Q_S2PN",
        "outputId": "72f8dcc9-b308-4838-8409-c3a2dda55c5d"
      },
      "execution_count": null,
      "outputs": [
        {
          "output_type": "stream",
          "name": "stdout",
          "text": [
            "[((0., 0.), (0., 0., 0.)) ((0., 0.), (0., 0., 0.))\n",
            " ((0., 0.), (0., 0., 0.)) ((0., 0.), (0., 0., 0.))\n",
            " ((0., 0.), (0., 0., 0.)) ((0., 0.), (0., 0., 0.))\n",
            " ((0., 0.), (0., 0., 0.)) ((0., 0.), (0., 0., 0.))\n",
            " ((0., 0.), (0., 0., 0.)) ((0., 0.), (0., 0., 0.))]\n"
          ]
        },
        {
          "output_type": "stream",
          "name": "stderr",
          "text": [
            "/usr/local/lib/python3.7/dist-packages/ipykernel_launcher.py:6: FutureWarning: Passing (type, 1) or '1type' as a synonym of type is deprecated; in a future version of numpy, it will be understood as (type, (1,)) / '(1,)type'.\n",
            "  \n"
          ]
        }
      ]
    },
    {
      "cell_type": "code",
      "source": [
        "#### 52. Consider a random vector with shape (100,2) representing coordinates, find point by point distances (★★☆) \n",
        "Z = np.random.random((10,2))\n",
        "X,Y = np.atleast_2d(Z[:,0], Z[:,1])\n",
        "D = np.sqrt( (X-X.T)**2 + (Y-Y.T)**2)\n",
        "print(D)\n",
        "\n",
        "import scipy\n",
        "\n",
        "import scipy.spatial\n",
        "\n",
        "Z = np.random.random((10,2))\n",
        "D = scipy.spatial.distance.cdist(Z,Z)\n",
        "print(D)"
      ],
      "metadata": {
        "colab": {
          "base_uri": "https://localhost:8080/"
        },
        "id": "K6P_leYITG4P",
        "outputId": "c4c0fb87-a495-4554-f3cf-e9b17365b0fb"
      },
      "execution_count": null,
      "outputs": [
        {
          "output_type": "stream",
          "name": "stdout",
          "text": [
            "[[0.         0.42508691 0.59300326 0.53865952 0.58975355 0.55060669\n",
            "  0.25640184 0.3634339  0.23590587 0.31237251]\n",
            " [0.42508691 0.         0.9708367  0.26638556 0.49823573 0.83705361\n",
            "  0.22032996 0.75333854 0.4258123  0.18933793]\n",
            " [0.59300326 0.9708367  0.         0.95636851 0.82482252 0.86330567\n",
            "  0.75356137 0.58005574 0.79133006 0.79776078]\n",
            " [0.53865952 0.26638556 0.95636851 0.         0.26664752 1.04375024\n",
            "  0.28367904 0.90116414 0.635618   0.22917567]\n",
            " [0.58975355 0.49823573 0.82482252 0.26664752 0.         1.13858607\n",
            "  0.39360745 0.93734306 0.76331269 0.36420265]\n",
            " [0.55060669 0.83705361 0.86330567 1.04375024 1.13858607 0.\n",
            "  0.76977743 0.28581874 0.41282755 0.81893088]\n",
            " [0.25640184 0.22032996 0.75356137 0.28367904 0.39360745 0.76977743\n",
            "  0.         0.61769308 0.37421629 0.05607567]\n",
            " [0.3634339  0.75333854 0.58005574 0.90116414 0.93734306 0.28581874\n",
            "  0.61769308 0.         0.36497513 0.67305638]\n",
            " [0.23590587 0.4258123  0.79133006 0.635618   0.76331269 0.41282755\n",
            "  0.37421629 0.36497513 0.         0.41734384]\n",
            " [0.31237251 0.18933793 0.79776078 0.22917567 0.36420265 0.81893088\n",
            "  0.05607567 0.67305638 0.41734384 0.        ]]\n",
            "[[0.         0.27281786 0.68844611 0.8164891  0.98956309 0.44462021\n",
            "  0.39146201 0.73683996 0.60580244 0.41636108]\n",
            " [0.27281786 0.         0.63532208 0.56098116 0.76967079 0.1859028\n",
            "  0.29345866 0.56712917 0.65108336 0.3096926 ]\n",
            " [0.68844611 0.63532208 0.         1.0132387  0.59255983 0.57100476\n",
            "  0.92844914 0.30835186 0.23515381 0.32589587]\n",
            " [0.8164891  0.56098116 1.0132387  0.         0.75371235 0.47600693\n",
            "  0.52506521 0.77380612 1.12684904 0.74265186]\n",
            " [0.98956309 0.76967079 0.59255983 0.75371235 0.         0.58993274\n",
            "  0.9977034  0.30377635 0.81831104 0.60285701]\n",
            " [0.44462021 0.1859028  0.57100476 0.47600693 0.58993274 0.\n",
            "  0.42179462 0.42265755 0.6539161  0.26984572]\n",
            " [0.39146201 0.29345866 0.92844914 0.52506521 0.9977034  0.42179462\n",
            "  0.         0.84121041 0.92642794 0.60309313]\n",
            " [0.73683996 0.56712917 0.30835186 0.77380612 0.30377635 0.42265755\n",
            "  0.84121041 0.         0.52073791 0.3247008 ]\n",
            " [0.60580244 0.65108336 0.23515381 1.12684904 0.81831104 0.6539161\n",
            "  0.92642794 0.52073791 0.         0.38450403]\n",
            " [0.41636108 0.3096926  0.32589587 0.74265186 0.60285701 0.26984572\n",
            "  0.60309313 0.3247008  0.38450403 0.        ]]\n"
          ]
        }
      ]
    },
    {
      "cell_type": "code",
      "source": [
        "#### 53. How to convert a float (32 bits) array into an integer (32 bits) in place? \n",
        "Z = np.arange(10, dtype=np.float32)\n",
        "Z = Z.astype(np.int32, copy=False)\n",
        "print(Z)\n"
      ],
      "metadata": {
        "colab": {
          "base_uri": "https://localhost:8080/"
        },
        "id": "esfcuaDLUrWz",
        "outputId": "a50b5c22-9d28-4e6c-8daa-90fb20ded0be"
      },
      "execution_count": null,
      "outputs": [
        {
          "output_type": "stream",
          "name": "stdout",
          "text": [
            "[0 1 2 3 4 5 6 7 8 9]\n"
          ]
        }
      ]
    },
    {
      "cell_type": "code",
      "source": [
        "#### 54. How to read the following file? (★★☆)\n",
        "from io import StringIO\n",
        "\n",
        "s = StringIO(\"\"\"1, 2, 3, 4, 5\\n\n",
        "                6,  ,  , 7, 8\\n\n",
        "                 ,  , 9,10,11\\n\"\"\")\n",
        "Z = np.genfromtxt(s, delimiter=\",\", dtype=np.int)\n",
        "print(Z)"
      ],
      "metadata": {
        "colab": {
          "base_uri": "https://localhost:8080/"
        },
        "id": "TRJYflieU9e8",
        "outputId": "d50588bb-d330-4021-9872-e616f1b038bb"
      },
      "execution_count": null,
      "outputs": [
        {
          "output_type": "stream",
          "name": "stdout",
          "text": [
            "[[ 1  2  3  4  5]\n",
            " [ 6 -1 -1  7  8]\n",
            " [-1 -1  9 10 11]]\n"
          ]
        },
        {
          "output_type": "stream",
          "name": "stderr",
          "text": [
            "/usr/local/lib/python3.7/dist-packages/ipykernel_launcher.py:8: DeprecationWarning: `np.int` is a deprecated alias for the builtin `int`. To silence this warning, use `int` by itself. Doing this will not modify any behavior and is safe. When replacing `np.int`, you may wish to use e.g. `np.int64` or `np.int32` to specify the precision. If you wish to review your current use, check the release note link for additional information.\n",
            "Deprecated in NumPy 1.20; for more details and guidance: https://numpy.org/devdocs/release/1.20.0-notes.html#deprecations\n",
            "  \n"
          ]
        }
      ]
    },
    {
      "cell_type": "code",
      "source": [
        "#### 55. What is the equivalent of enumerate for numpy arrays? (★★☆)\n",
        "z=np.arange(9).reshape(3,3)\n",
        "for index,value in np.ndenumerate(z):\n",
        "  print(index,value)\n",
        "for index in np.ndindex(z.shape):\n",
        "  print(index,z[index])  "
      ],
      "metadata": {
        "colab": {
          "base_uri": "https://localhost:8080/"
        },
        "id": "XlVDMr1WVTwM",
        "outputId": "6bc1d722-1160-45f5-9056-637abb2dc3d8"
      },
      "execution_count": null,
      "outputs": [
        {
          "output_type": "stream",
          "name": "stdout",
          "text": [
            "(0, 0) 0\n",
            "(0, 1) 1\n",
            "(0, 2) 2\n",
            "(1, 0) 3\n",
            "(1, 1) 4\n",
            "(1, 2) 5\n",
            "(2, 0) 6\n",
            "(2, 1) 7\n",
            "(2, 2) 8\n",
            "(0, 0) 0\n",
            "(0, 1) 1\n",
            "(0, 2) 2\n",
            "(1, 0) 3\n",
            "(1, 1) 4\n",
            "(1, 2) 5\n",
            "(2, 0) 6\n",
            "(2, 1) 7\n",
            "(2, 2) 8\n"
          ]
        }
      ]
    },
    {
      "cell_type": "code",
      "source": [
        "#### 56. Generate a generic 2D Gaussian-like array (★★☆)\n",
        "X, Y = np.meshgrid(np.linspace(-1,1,10), np.linspace(-1,1,10))\n",
        "D = np.sqrt(X*X+Y*Y)\n",
        "sigma, mu = 1.0, 0.0\n",
        "G = np.exp(-( (D-mu)**2 / ( 2.0 * sigma**2 ) ) )\n",
        "print(G)\n"
      ],
      "metadata": {
        "colab": {
          "base_uri": "https://localhost:8080/"
        },
        "id": "N1R8rOZZWTzl",
        "outputId": "a04e680d-d9d9-4ee5-c938-d5be0b0539bc"
      },
      "execution_count": null,
      "outputs": [
        {
          "output_type": "stream",
          "name": "stdout",
          "text": [
            "[[0.36787944 0.44822088 0.51979489 0.57375342 0.60279818 0.60279818\n",
            "  0.57375342 0.51979489 0.44822088 0.36787944]\n",
            " [0.44822088 0.54610814 0.63331324 0.69905581 0.73444367 0.73444367\n",
            "  0.69905581 0.63331324 0.54610814 0.44822088]\n",
            " [0.51979489 0.63331324 0.73444367 0.81068432 0.85172308 0.85172308\n",
            "  0.81068432 0.73444367 0.63331324 0.51979489]\n",
            " [0.57375342 0.69905581 0.81068432 0.89483932 0.9401382  0.9401382\n",
            "  0.89483932 0.81068432 0.69905581 0.57375342]\n",
            " [0.60279818 0.73444367 0.85172308 0.9401382  0.98773022 0.98773022\n",
            "  0.9401382  0.85172308 0.73444367 0.60279818]\n",
            " [0.60279818 0.73444367 0.85172308 0.9401382  0.98773022 0.98773022\n",
            "  0.9401382  0.85172308 0.73444367 0.60279818]\n",
            " [0.57375342 0.69905581 0.81068432 0.89483932 0.9401382  0.9401382\n",
            "  0.89483932 0.81068432 0.69905581 0.57375342]\n",
            " [0.51979489 0.63331324 0.73444367 0.81068432 0.85172308 0.85172308\n",
            "  0.81068432 0.73444367 0.63331324 0.51979489]\n",
            " [0.44822088 0.54610814 0.63331324 0.69905581 0.73444367 0.73444367\n",
            "  0.69905581 0.63331324 0.54610814 0.44822088]\n",
            " [0.36787944 0.44822088 0.51979489 0.57375342 0.60279818 0.60279818\n",
            "  0.57375342 0.51979489 0.44822088 0.36787944]]\n"
          ]
        }
      ]
    },
    {
      "cell_type": "code",
      "source": [
        "#### 57. How to randomly place p elements in a 2D array? (★★☆)\n",
        "n = 10\n",
        "p = 3\n",
        "Z = np.zeros((n,n))\n",
        "np.put(Z, np.random.choice(range(n*n), p, replace=False),1)\n",
        "print(Z)"
      ],
      "metadata": {
        "colab": {
          "base_uri": "https://localhost:8080/"
        },
        "id": "VjRvzB_gW1Kv",
        "outputId": "e9fc0072-2983-4e18-c610-d7dd8dee6afc"
      },
      "execution_count": null,
      "outputs": [
        {
          "output_type": "stream",
          "name": "stdout",
          "text": [
            "[[0. 0. 0. 0. 0. 0. 0. 0. 0. 0.]\n",
            " [0. 0. 0. 0. 0. 0. 0. 0. 0. 0.]\n",
            " [0. 0. 0. 0. 0. 0. 1. 0. 0. 0.]\n",
            " [0. 0. 0. 0. 0. 0. 0. 0. 0. 0.]\n",
            " [0. 0. 0. 0. 0. 0. 1. 0. 0. 0.]\n",
            " [0. 0. 0. 0. 0. 0. 0. 0. 0. 0.]\n",
            " [0. 0. 0. 0. 0. 0. 0. 0. 0. 0.]\n",
            " [0. 0. 0. 0. 0. 0. 0. 0. 0. 0.]\n",
            " [0. 0. 0. 0. 0. 0. 0. 0. 0. 1.]\n",
            " [0. 0. 0. 0. 0. 0. 0. 0. 0. 0.]]\n"
          ]
        }
      ]
    },
    {
      "cell_type": "code",
      "source": [
        "#### 58. Subtract the mean of each row of a matrix (★★☆)\n",
        "X = np.random.rand(5, 10)\n",
        "\n",
        "Y = X - X.mean(axis=1, keepdims=True)\n",
        "\n",
        "print(Y)"
      ],
      "metadata": {
        "colab": {
          "base_uri": "https://localhost:8080/"
        },
        "id": "BMSFfB6tXHPj",
        "outputId": "49edd538-4887-4f25-f229-69754cdeeabd"
      },
      "execution_count": null,
      "outputs": [
        {
          "output_type": "stream",
          "name": "stdout",
          "text": [
            "[[ 0.21923278 -0.342218   -0.24974546  0.38996335  0.24622824  0.45959691\n",
            "   0.07628391 -0.37750391 -0.11280446 -0.30903335]\n",
            " [ 0.0678576  -0.09298089  0.29174659 -0.46172771  0.30619268  0.31754871\n",
            "  -0.27228032 -0.37026607 -0.0558014   0.2697108 ]\n",
            " [ 0.08029004  0.33164432 -0.16733933 -0.21225864  0.49918316 -0.15553116\n",
            "  -0.28108081 -0.10421076  0.17970131 -0.17039812]\n",
            " [ 0.47235158  0.1428788  -0.19838384 -0.20500682 -0.0827169   0.08097532\n",
            "   0.33381938  0.36500489 -0.43365197 -0.47527043]\n",
            " [-0.2288351   0.29115968 -0.09234577 -0.32944929  0.24301616  0.35093269\n",
            "   0.07229193 -0.29546828  0.35030418 -0.36160619]]\n"
          ]
        }
      ]
    },
    {
      "cell_type": "code",
      "source": [
        "#### 59. How to sort an array by the nth column? (★★☆) \n",
        "z=np.random.randint(0,10,(3,3))\n",
        "print(z)\n",
        "print(z[z[:,1].argsort()])"
      ],
      "metadata": {
        "colab": {
          "base_uri": "https://localhost:8080/"
        },
        "id": "xvX2qeAiXibl",
        "outputId": "322c2ef7-16fa-4826-cdc8-6f30cd4567ef"
      },
      "execution_count": null,
      "outputs": [
        {
          "output_type": "stream",
          "name": "stdout",
          "text": [
            "[[7 9 8]\n",
            " [6 5 1]\n",
            " [2 0 8]]\n",
            "[[2 0 8]\n",
            " [6 5 1]\n",
            " [7 9 8]]\n"
          ]
        }
      ]
    },
    {
      "cell_type": "code",
      "source": [
        "#### 60. How to tell if a given 2D array has null columns? (★★☆)\n",
        "Z = np.random.randint(0,3,(3,10))\n",
        "print((~Z.any(axis=0)).any())"
      ],
      "metadata": {
        "colab": {
          "base_uri": "https://localhost:8080/"
        },
        "id": "WanLwHujYHN9",
        "outputId": "31208c80-0fb5-43c9-8641-3d099b4b20bd"
      },
      "execution_count": null,
      "outputs": [
        {
          "output_type": "stream",
          "name": "stdout",
          "text": [
            "True\n"
          ]
        }
      ]
    },
    {
      "cell_type": "code",
      "source": [
        "#### 61. Find the nearest value from a given value in an array (★★☆) \n",
        "Z=np.random.uniform(0,1,10)\n",
        "z=0.5\n",
        "m=Z.flat[np.abs(Z-z).argmin()]\n",
        "print(m)"
      ],
      "metadata": {
        "colab": {
          "base_uri": "https://localhost:8080/"
        },
        "id": "j8El7qNiKii6",
        "outputId": "dedd7b92-3c87-4e99-a360-5f1f9a960310"
      },
      "execution_count": 3,
      "outputs": [
        {
          "output_type": "stream",
          "name": "stdout",
          "text": [
            "0.5996229668370092\n"
          ]
        }
      ]
    },
    {
      "cell_type": "code",
      "source": [
        "#### 62. Considering two arrays with shape (1,3) and (3,1), how to compute their sum using an iterator? (★★☆) \n",
        "a=np.arange(3).reshape(3,1)\n",
        "b=np.arange(3).reshape(1,3)\n",
        "it=np.nditer([a,b,None])\n",
        "for x,y,z in it: z[...]=x+y\n",
        "print(it.operands[2])"
      ],
      "metadata": {
        "colab": {
          "base_uri": "https://localhost:8080/"
        },
        "id": "3fnVFacqMyT2",
        "outputId": "d46e9386-885b-4d89-bed7-b3e965d8a597"
      },
      "execution_count": 4,
      "outputs": [
        {
          "output_type": "stream",
          "name": "stdout",
          "text": [
            "[[0 1 2]\n",
            " [1 2 3]\n",
            " [2 3 4]]\n"
          ]
        }
      ]
    },
    {
      "cell_type": "code",
      "source": [
        "#### 63. Create an array class that has a name attribute (★★☆)\n",
        "class NamedArray(np.ndarray):\n",
        "    def __new__(cls, array, name=\"no name\"):\n",
        "        obj = np.asarray(array).view(cls)\n",
        "        obj.name = name\n",
        "        return obj\n",
        "    def __array_finalize__(self, obj):\n",
        "        if obj is None: return\n",
        "        self.info = getattr(obj, 'name', \"no name\")\n",
        "\n",
        "Z = NamedArray(np.arange(10), \"range_10\")\n",
        "print (Z.name)"
      ],
      "metadata": {
        "colab": {
          "base_uri": "https://localhost:8080/"
        },
        "id": "uHskncIMOA85",
        "outputId": "4e88a09b-d6d5-4606-a7cf-a030b8e76c4f"
      },
      "execution_count": 5,
      "outputs": [
        {
          "output_type": "stream",
          "name": "stdout",
          "text": [
            "range_10\n"
          ]
        }
      ]
    },
    {
      "cell_type": "code",
      "source": [
        "#### 64. Consider a given vector, how to add 1 to each element indexed by a second vector (be careful with repeated indices)? (★★★)\n",
        "z=np.ones(10)\n",
        "i=np.random.randint(0,len(z),20)\n",
        "z+=np.bincount(i,minlength=len(z))\n",
        "print(z)"
      ],
      "metadata": {
        "colab": {
          "base_uri": "https://localhost:8080/"
        },
        "id": "OJI2AZdCOdfr",
        "outputId": "ad08ddc1-5744-480c-e93d-3e7237f0d4fb"
      },
      "execution_count": 6,
      "outputs": [
        {
          "output_type": "stream",
          "name": "stdout",
          "text": [
            "[2. 2. 6. 1. 4. 3. 4. 3. 2. 3.]\n"
          ]
        }
      ]
    },
    {
      "cell_type": "code",
      "source": [
        "#### 65. How to accumulate elements of a vector (X) to an array (F) based on an index list (I)? (★★★) \n",
        "x=[1,2,3,4,5,6,7]\n",
        "y=[1,3,2,5,7,8,9]\n",
        "z=np.bincount(x,y)\n",
        "print(z)"
      ],
      "metadata": {
        "colab": {
          "base_uri": "https://localhost:8080/"
        },
        "id": "dKSN2Ju6Pk7N",
        "outputId": "ef63289a-fad8-4633-9d46-a27033a37233"
      },
      "execution_count": 7,
      "outputs": [
        {
          "output_type": "stream",
          "name": "stdout",
          "text": [
            "[0. 1. 3. 2. 5. 7. 8. 9.]\n"
          ]
        }
      ]
    },
    {
      "cell_type": "code",
      "source": [
        "#### 66. Considering a (w,h,3) image of (dtype=ubyte), compute the number of unique colors (★★★) \n",
        "w,h=16,16\n",
        "i=np.random.randint(0,2,(h,w,3)).astype(np.ubyte)\n",
        "f=i[...,0]*(256*256)+i[...,1]*256+i[...,2]\n",
        "n=len(np.unique(f))\n",
        "print(n)"
      ],
      "metadata": {
        "colab": {
          "base_uri": "https://localhost:8080/"
        },
        "id": "Giah0b3NP_97",
        "outputId": "5c1689e9-705a-4d55-8f2d-1053cb1932c5"
      },
      "execution_count": 8,
      "outputs": [
        {
          "output_type": "stream",
          "name": "stdout",
          "text": [
            "8\n"
          ]
        }
      ]
    },
    {
      "cell_type": "code",
      "source": [
        "#### 67. Considering a four dimensions array, how to get sum over the last two axis at once? (★★★) \n",
        "A = np.random.randint(0,10,(3,4,3,4))\n",
        "sum = A.sum(axis=(-2,-1))\n",
        "print(sum)"
      ],
      "metadata": {
        "colab": {
          "base_uri": "https://localhost:8080/"
        },
        "id": "I_LWN3faQ_r8",
        "outputId": "0da2ceff-1100-4d66-974b-decd73770f8d"
      },
      "execution_count": 9,
      "outputs": [
        {
          "output_type": "stream",
          "name": "stdout",
          "text": [
            "[[40 71 72 43]\n",
            " [69 68 51 53]\n",
            " [58 69 64 64]]\n"
          ]
        }
      ]
    },
    {
      "cell_type": "code",
      "source": [
        "#### 68. Considering a one-dimensional vector D, how to compute means of subsets of D using a vector S of same size describing subset  indices? (★★★)\n",
        "d=np.random.uniform(0,1,100)\n",
        "s=np.random.randint(0,10,100)\n",
        "d_sums=np.bincount(s,weights=d)\n",
        "d_counts=np.bincount(s)\n",
        "d_means=d_sums/d_counts\n",
        "print(d_means)\n"
      ],
      "metadata": {
        "colab": {
          "base_uri": "https://localhost:8080/"
        },
        "id": "6ZRy0lMfRf-6",
        "outputId": "25653069-d7a0-44ba-e70d-9f0e2d7e8d7c"
      },
      "execution_count": 10,
      "outputs": [
        {
          "output_type": "stream",
          "name": "stdout",
          "text": [
            "[0.62143286 0.52398802 0.53895281 0.43346273 0.42487028 0.37362054\n",
            " 0.42142708 0.529042   0.67684984 0.38351458]\n"
          ]
        }
      ]
    },
    {
      "cell_type": "code",
      "source": [
        "#### 69. How to get the diagonal of a dot product? (★★★)\n",
        "A = np.random.uniform(0,1,(5,5))\n",
        "B = np.random.uniform(0,1,(5,5))\n",
        "\n",
        "np.diag(np.dot(A, B))"
      ],
      "metadata": {
        "colab": {
          "base_uri": "https://localhost:8080/"
        },
        "id": "7iyaWKQGShMe",
        "outputId": "599ae7bc-6f53-4b4a-8f6b-722189399cd9"
      },
      "execution_count": 11,
      "outputs": [
        {
          "output_type": "execute_result",
          "data": {
            "text/plain": [
              "array([1.61921617, 0.91229491, 0.42124504, 1.27974561, 1.38826809])"
            ]
          },
          "metadata": {},
          "execution_count": 11
        }
      ]
    },
    {
      "cell_type": "code",
      "source": [
        "#### 70. Consider the vector \\[1, 2, 3, 4, 5\\], how to build a new vector with 3 consecutive zeros interleaved between each value? (★★★) \n",
        "z=np.array([1,2,3,4,5])\n",
        "nz=3\n",
        "z0=np.zeros(len(z)+(len(z)-1)*(nz))\n",
        "z0[::nz+1]=z\n",
        "print(z0)"
      ],
      "metadata": {
        "colab": {
          "base_uri": "https://localhost:8080/"
        },
        "id": "PDAoh7JwTE2K",
        "outputId": "ca45e3e9-8379-4c84-946e-66b9e6bbd564"
      },
      "execution_count": 12,
      "outputs": [
        {
          "output_type": "stream",
          "name": "stdout",
          "text": [
            "[1. 0. 0. 0. 2. 0. 0. 0. 3. 0. 0. 0. 4. 0. 0. 0. 5.]\n"
          ]
        }
      ]
    },
    {
      "cell_type": "code",
      "source": [
        "#### 71. Consider an array of dimension (5,5,3), how to mulitply it by an array with dimensions (5,5)? (★★★) \n",
        "A = np.ones((5,5,3))\n",
        "B = 2*np.ones((5,5))\n",
        "print(A * B[:,:,None])"
      ],
      "metadata": {
        "colab": {
          "base_uri": "https://localhost:8080/"
        },
        "id": "4R8hIEDeUzl4",
        "outputId": "0de5b8d1-3fc8-462d-ab7b-61899d221084"
      },
      "execution_count": 13,
      "outputs": [
        {
          "output_type": "stream",
          "name": "stdout",
          "text": [
            "[[[2. 2. 2.]\n",
            "  [2. 2. 2.]\n",
            "  [2. 2. 2.]\n",
            "  [2. 2. 2.]\n",
            "  [2. 2. 2.]]\n",
            "\n",
            " [[2. 2. 2.]\n",
            "  [2. 2. 2.]\n",
            "  [2. 2. 2.]\n",
            "  [2. 2. 2.]\n",
            "  [2. 2. 2.]]\n",
            "\n",
            " [[2. 2. 2.]\n",
            "  [2. 2. 2.]\n",
            "  [2. 2. 2.]\n",
            "  [2. 2. 2.]\n",
            "  [2. 2. 2.]]\n",
            "\n",
            " [[2. 2. 2.]\n",
            "  [2. 2. 2.]\n",
            "  [2. 2. 2.]\n",
            "  [2. 2. 2.]\n",
            "  [2. 2. 2.]]\n",
            "\n",
            " [[2. 2. 2.]\n",
            "  [2. 2. 2.]\n",
            "  [2. 2. 2.]\n",
            "  [2. 2. 2.]\n",
            "  [2. 2. 2.]]]\n"
          ]
        }
      ]
    },
    {
      "cell_type": "code",
      "source": [
        "#### 72. How to swap two rows of an array? (★★★)\n",
        "A = np.arange(25).reshape(5,5)\n",
        "A[[0,1]] = A[[1,0]]\n",
        "print(A)"
      ],
      "metadata": {
        "colab": {
          "base_uri": "https://localhost:8080/"
        },
        "id": "P1PDBDm_VCCo",
        "outputId": "ffc0eb07-b619-40c8-e7c6-e3999d5402c0"
      },
      "execution_count": 14,
      "outputs": [
        {
          "output_type": "stream",
          "name": "stdout",
          "text": [
            "[[ 5  6  7  8  9]\n",
            " [ 0  1  2  3  4]\n",
            " [10 11 12 13 14]\n",
            " [15 16 17 18 19]\n",
            " [20 21 22 23 24]]\n"
          ]
        }
      ]
    },
    {
      "cell_type": "code",
      "source": [
        "#### 73. Consider a set of 10 triplets describing 10 triangles (with shared vertices), find the set of unique line segments composing all the  triangles (★★★) \n",
        "faces = np.random.randint(0,100,(10,3))\n",
        "F = np.roll(faces.repeat(2,axis=1),-1,axis=1)\n",
        "F = F.reshape(len(F)*3,2)\n",
        "F = np.sort(F,axis=1)\n",
        "G = F.view( dtype=[('p0',F.dtype),('p1',F.dtype)] )\n",
        "G = np.unique(G)\n",
        "print(G)"
      ],
      "metadata": {
        "colab": {
          "base_uri": "https://localhost:8080/"
        },
        "id": "8C4nWWU-VQXJ",
        "outputId": "f7815290-fbde-493a-8aae-4b5255dd303d"
      },
      "execution_count": 15,
      "outputs": [
        {
          "output_type": "stream",
          "name": "stdout",
          "text": [
            "[( 0,  9) ( 0, 54) ( 3, 80) ( 3, 82) ( 8, 21) ( 8, 90) ( 9, 54) (21, 90)\n",
            " (31, 53) (31, 66) (33, 46) (33, 72) (33, 96) (33, 99) (39, 48) (39, 83)\n",
            " (41, 68) (41, 73) (42, 56) (42, 78) (46, 99) (48, 83) (49, 67) (49, 90)\n",
            " (53, 66) (56, 78) (67, 90) (68, 73) (72, 96) (80, 82)]\n"
          ]
        }
      ]
    },
    {
      "cell_type": "code",
      "source": [
        "#### 74. Given an array C that is a bincount, how to produce an array A such that np.bincount(A) == C? (★★★) \n",
        "C = np.bincount([1,1,2,3,4,4,6])\n",
        "A = np.repeat(np.arange(len(C)), C)\n",
        "\n",
        "print(A)"
      ],
      "metadata": {
        "colab": {
          "base_uri": "https://localhost:8080/"
        },
        "id": "m1AXYE1TVucd",
        "outputId": "0f423bd3-bf45-4c97-c72f-07f9db0fd0d4"
      },
      "execution_count": 20,
      "outputs": [
        {
          "output_type": "stream",
          "name": "stdout",
          "text": [
            "[1 1 2 3 4 4 6]\n"
          ]
        }
      ]
    },
    {
      "cell_type": "code",
      "source": [
        "#### 75. How to compute averages using a sliding window over an array? (★★★) \n",
        "\n",
        "def moving_average(a, n=3) :\n",
        "    ret = np.cumsum(a, dtype=float)\n",
        "    ret[n:] = ret[n:] - ret[:-n]\n",
        "    return ret[n - 1:] / n\n",
        "Z = np.arange(20)\n",
        "print(moving_average(Z, n=3))"
      ],
      "metadata": {
        "colab": {
          "base_uri": "https://localhost:8080/"
        },
        "id": "9meva5T2WYo2",
        "outputId": "e0887b54-6d79-4743-cb3d-91f2be57542d"
      },
      "execution_count": 21,
      "outputs": [
        {
          "output_type": "stream",
          "name": "stdout",
          "text": [
            "[ 1.  2.  3.  4.  5.  6.  7.  8.  9. 10. 11. 12. 13. 14. 15. 16. 17. 18.]\n"
          ]
        }
      ]
    },
    {
      "cell_type": "code",
      "source": [
        "#### 76. Consider a one-dimensional array Z, build a two-dimensional array whose first row is (Z\\[0\\],Z\\[1\\],Z\\[2\\]) and each subsequent row is  shifted by 1 (last row should be (Z\\[-3\\],Z\\[-2\\],Z\\[-1\\]) (★★★) \n",
        "from numpy.lib import stride_tricks\n",
        "\n",
        "def rolling(a, window):\n",
        "    shape = (a.size - window + 1, window)\n",
        "    strides = (a.itemsize, a.itemsize)\n",
        "    return stride_tricks.as_strided(a, shape=shape, strides=strides)\n",
        "Z = rolling(np.arange(10), 3)\n",
        "print(Z)"
      ],
      "metadata": {
        "colab": {
          "base_uri": "https://localhost:8080/"
        },
        "id": "jdnTWj5zX3O0",
        "outputId": "8d09b086-f4b3-49e9-a29d-4fbb2fa1de77"
      },
      "execution_count": 22,
      "outputs": [
        {
          "output_type": "stream",
          "name": "stdout",
          "text": [
            "[[0 1 2]\n",
            " [1 2 3]\n",
            " [2 3 4]\n",
            " [3 4 5]\n",
            " [4 5 6]\n",
            " [5 6 7]\n",
            " [6 7 8]\n",
            " [7 8 9]]\n"
          ]
        }
      ]
    },
    {
      "cell_type": "code",
      "source": [
        "#### 77. How to negate a boolean, or to change the sign of a float inplace? (★★★) \n",
        "Z = np.random.randint(0,2,100)\n",
        "np.logical_not(Z, out=Z)\n",
        "\n",
        "Z = np.random.uniform(-1.0,1.0,100)\n",
        "np.negative(Z, out=Z)\n"
      ],
      "metadata": {
        "colab": {
          "base_uri": "https://localhost:8080/"
        },
        "id": "4BcuCA6KYgd_",
        "outputId": "4a12cbac-1d90-4a59-8b79-68545ba68573"
      },
      "execution_count": 23,
      "outputs": [
        {
          "output_type": "execute_result",
          "data": {
            "text/plain": [
              "array([-1.68748164e-01, -4.17087339e-01,  4.41246077e-01, -2.19928191e-01,\n",
              "        5.34287729e-01,  5.56440657e-01,  2.08477705e-01,  2.98280175e-01,\n",
              "       -6.33642535e-01, -4.76159598e-01,  2.16406299e-01, -3.54061694e-01,\n",
              "       -8.29699015e-01, -2.19469715e-02,  6.22740530e-01,  3.36374803e-01,\n",
              "        6.14907342e-01,  9.80887030e-01,  2.08212610e-01,  5.04402919e-02,\n",
              "        7.20839828e-01,  2.81016397e-01,  6.52584629e-01,  4.02496957e-01,\n",
              "       -4.16514435e-01,  3.24494891e-01,  8.95777431e-01,  8.85364349e-01,\n",
              "        3.15869708e-01,  4.96111723e-01,  2.20380349e-01, -4.64968642e-01,\n",
              "       -1.70890208e-01, -5.10798796e-02,  1.31618530e-04,  9.89607746e-01,\n",
              "        5.35178187e-01,  6.72167149e-01, -7.59693374e-01, -1.01568242e-01,\n",
              "        8.53316803e-01,  9.45528855e-02,  5.25672119e-01, -4.63103144e-01,\n",
              "       -2.18120770e-01, -7.50386859e-02, -5.81366461e-02, -1.75132842e-02,\n",
              "        3.92142089e-01,  2.91785715e-01, -1.75481862e-01,  8.99077113e-02,\n",
              "        9.23621927e-01, -8.49380712e-01, -5.57842543e-01, -8.65550166e-01,\n",
              "        4.30330288e-01, -3.97347985e-02,  2.93908941e-01,  7.08201677e-01,\n",
              "       -2.90002938e-01, -3.31349330e-01, -3.30393199e-01, -5.03501512e-01,\n",
              "       -7.24267686e-03, -5.62658356e-01,  3.93962091e-01, -5.21440883e-01,\n",
              "       -4.07129634e-02, -8.77653779e-01, -3.01007597e-01, -4.97666004e-02,\n",
              "        5.57796571e-01,  2.17734285e-01, -3.46587382e-01,  5.89238412e-01,\n",
              "        6.80402200e-03, -1.55579120e-01, -7.01063614e-01, -7.31426897e-01,\n",
              "        5.84718825e-01,  4.49181530e-01,  6.64969653e-01, -6.46330536e-02,\n",
              "        2.35799471e-02,  4.12530042e-02, -9.02505342e-01,  5.38264845e-01,\n",
              "       -2.95678802e-01,  3.37081749e-01,  2.98909553e-02, -9.64991405e-01,\n",
              "        8.59423465e-01, -9.97726508e-01,  2.82256967e-01,  8.68481127e-01,\n",
              "       -4.95996428e-01,  6.40716558e-01, -7.42242982e-01,  6.15299009e-01])"
            ]
          },
          "metadata": {},
          "execution_count": 23
        }
      ]
    },
    {
      "cell_type": "code",
      "source": [
        "#### 78. Consider 2 sets of points P0,P1 describing lines (2d) and a point p, how to compute distance from p to each line i  (P0\\[i\\],P1\\[i\\])? (★★★)\n",
        "def distance(P0, P1, p):\n",
        "    T = P1 - P0\n",
        "    L = (T**2).sum(axis=1)\n",
        "    U = -((P0[:,0]-p[...,0])*T[:,0] + (P0[:,1]-p[...,1])*T[:,1]) / L\n",
        "    U = U.reshape(len(U),1)\n",
        "    D = P0 + U*T - p\n",
        "    return np.sqrt((D**2).sum(axis=1))\n",
        "\n",
        "P0 = np.random.uniform(-10,10,(10,2))\n",
        "P1 = np.random.uniform(-10,10,(10,2))\n",
        "p  = np.random.uniform(-10,10,( 1,2))\n",
        "print(distance(P0, P1, p))"
      ],
      "metadata": {
        "colab": {
          "base_uri": "https://localhost:8080/"
        },
        "id": "PT06vqA1Y0D_",
        "outputId": "6845cbe6-082f-42c2-f429-02731c966734"
      },
      "execution_count": 24,
      "outputs": [
        {
          "output_type": "stream",
          "name": "stdout",
          "text": [
            "[ 9.43721084 15.78386629  8.4821823   6.3419179  11.86530079  0.41339867\n",
            " 10.20365883 12.78885923 10.25063046  6.68177413]\n"
          ]
        }
      ]
    },
    {
      "cell_type": "code",
      "source": [
        "#### 79. Consider 2 sets of points P0,P1 describing lines (2d) and a set of points P, how to compute distance from each point j (P\\[j\\]) to each line i (P0\\[i\\],P1\\[i\\])? (★★★)\n",
        "P0 = np.random.uniform(-10, 10, (10,2))\n",
        "P1 = np.random.uniform(-10,10,(10,2))\n",
        "p = np.random.uniform(-10, 10, (10,2))\n",
        "print(np.array([distance(P0,P1,p_i) for p_i in p]))"
      ],
      "metadata": {
        "colab": {
          "base_uri": "https://localhost:8080/"
        },
        "id": "2k3A5zcDZLWJ",
        "outputId": "a8fe3346-ebfc-405e-de7a-975aae22dfcd"
      },
      "execution_count": 25,
      "outputs": [
        {
          "output_type": "stream",
          "name": "stdout",
          "text": [
            "[[ 2.0754762   5.20159529  2.83236493  5.70848105  3.89267961  7.38606683\n",
            "   6.10857401  9.14312764 11.08009482  4.45079885]\n",
            " [ 8.16525708  4.50570806 18.03506452 13.45347994 15.38198015  4.47521543\n",
            "   0.42448407  2.52769238  8.28486197  5.92758535]\n",
            " [ 0.2598121   6.60777789  0.65349076  7.19511208  5.74408618  7.36979445\n",
            "   7.95282507 11.24912301 12.71996056  4.23134391]\n",
            " [ 3.21667367  4.33782918  4.24124142  4.70335978  2.66382857  7.33683977\n",
            "   4.94767546  7.79646043  9.98021263  4.53327663]\n",
            " [ 2.63846179  7.48204229  8.84207669  4.33042381  5.50883507  0.65991204\n",
            "   5.30200426  5.37719421  1.20377634  2.9906953 ]\n",
            " [ 8.76698911  0.85095001 12.49570657  2.70305739  5.63342213  4.9809068\n",
            "   0.76016289  0.42847603  2.16814993  2.96025107]\n",
            " [ 2.43305853 13.95987609  7.76342423  9.16924779  8.62423827  8.2632581\n",
            "  10.23303038  8.33741324  3.00980046 10.65325432]\n",
            " [ 1.9575614  10.12373792 12.17676198 11.22789682 11.68536372  6.93252028\n",
            "   5.810931    3.74403182  5.47270024  8.91803679]\n",
            " [ 8.24178942  3.59772372 16.46035788 10.52368083 12.70203643  1.95912645\n",
            "   0.42888713  1.64388322  5.42716401  3.57210916]\n",
            " [12.44879858  3.17626942 14.60529208  1.57206418  5.56695684  8.49860139\n",
            "   4.39834795  2.49471167  2.89747638  6.65559141]]\n"
          ]
        }
      ]
    },
    {
      "cell_type": "code",
      "source": [
        "#### 80. Consider an arbitrary array, write a function that extract a subpart with a fixed shape and centered on a given element (pad with a `fill` value when necessary) (★★★) \n",
        "Z = np.random.randint(0,10,(10,10))\n",
        "shape = (5,5)\n",
        "fill  = 0\n",
        "position = (1,1)\n",
        "\n",
        "R = np.ones(shape, dtype=Z.dtype)*fill\n",
        "P  = np.array(list(position)).astype(int)\n",
        "Rs = np.array(list(R.shape)).astype(int)\n",
        "Zs = np.array(list(Z.shape)).astype(int)\n",
        "\n",
        "R_start = np.zeros((len(shape),)).astype(int)\n",
        "R_stop  = np.array(list(shape)).astype(int)\n",
        "Z_start = (P-Rs//2)\n",
        "Z_stop  = (P+Rs//2)+Rs%2\n",
        "\n",
        "R_start = (R_start - np.minimum(Z_start,0)).tolist()\n",
        "Z_start = (np.maximum(Z_start,0)).tolist()\n",
        "R_stop = np.maximum(R_start, (R_stop - np.maximum(Z_stop-Zs,0))).tolist()\n",
        "Z_stop = (np.minimum(Z_stop,Zs)).tolist()\n",
        "\n",
        "r = [slice(start,stop) for start,stop in zip(R_start,R_stop)]\n",
        "z = [slice(start,stop) for start,stop in zip(Z_start,Z_stop)]\n",
        "R[r] = Z[z]\n",
        "print(Z)\n",
        "print(R)\n"
      ],
      "metadata": {
        "colab": {
          "base_uri": "https://localhost:8080/"
        },
        "id": "LLEkSMMlZb21",
        "outputId": "6c3e74d0-48c0-4d36-9ca2-bdc8caa70de5"
      },
      "execution_count": 26,
      "outputs": [
        {
          "output_type": "stream",
          "name": "stdout",
          "text": [
            "[[3 7 4 7 8 2 5 9 3 8]\n",
            " [4 0 2 8 7 2 9 8 6 2]\n",
            " [5 1 7 1 5 7 3 4 7 5]\n",
            " [1 3 0 3 0 0 3 4 4 5]\n",
            " [4 9 8 6 3 7 0 8 0 5]\n",
            " [6 7 8 2 4 0 5 7 8 3]\n",
            " [9 3 9 2 0 9 3 6 5 4]\n",
            " [4 5 0 5 6 4 3 5 5 8]\n",
            " [2 7 1 4 6 6 5 6 5 4]\n",
            " [8 8 4 8 9 7 6 7 1 0]]\n",
            "[[0 0 0 0 0]\n",
            " [0 3 7 4 7]\n",
            " [0 4 0 2 8]\n",
            " [0 5 1 7 1]\n",
            " [0 1 3 0 3]]\n"
          ]
        },
        {
          "output_type": "stream",
          "name": "stderr",
          "text": [
            "/usr/local/lib/python3.7/dist-packages/ipykernel_launcher.py:24: FutureWarning: Using a non-tuple sequence for multidimensional indexing is deprecated; use `arr[tuple(seq)]` instead of `arr[seq]`. In the future this will be interpreted as an array index, `arr[np.array(seq)]`, which will result either in an error or a different result.\n"
          ]
        }
      ]
    },
    {
      "cell_type": "code",
      "source": [
        "#### 81. Consider an array Z = \\[1,2,3,4,5,6,7,8,9,10,11,12,13,14\\], how to generate an array R = \\[\\[1,2,3,4\\], \\[2,3,4,5\\], \\[3,4,5,6\\], ..., \\[11,12,13,14\\]\\]? (★★★) \n",
        "Z = np.arange(1,15,dtype=np.uint32)\n",
        "R = stride_tricks.as_strided(Z,(11,4),(4,4))\n",
        "print(R)"
      ],
      "metadata": {
        "colab": {
          "base_uri": "https://localhost:8080/"
        },
        "id": "S0-TWMJgdgnz",
        "outputId": "7100e24a-8093-4e1b-ddb1-17a4369ddbfa"
      },
      "execution_count": 27,
      "outputs": [
        {
          "output_type": "stream",
          "name": "stdout",
          "text": [
            "[[ 1  2  3  4]\n",
            " [ 2  3  4  5]\n",
            " [ 3  4  5  6]\n",
            " [ 4  5  6  7]\n",
            " [ 5  6  7  8]\n",
            " [ 6  7  8  9]\n",
            " [ 7  8  9 10]\n",
            " [ 8  9 10 11]\n",
            " [ 9 10 11 12]\n",
            " [10 11 12 13]\n",
            " [11 12 13 14]]\n"
          ]
        }
      ]
    },
    {
      "cell_type": "code",
      "source": [
        "#### 82. Compute a matrix rank (★★★)\n",
        "Z = np.random.uniform(0,1,(10,10))\n",
        "U, S, V = np.linalg.svd(Z)\n",
        "rank = np.sum(S > 1e-10)\n",
        "print(rank)"
      ],
      "metadata": {
        "colab": {
          "base_uri": "https://localhost:8080/"
        },
        "id": "6hYLNCZvd6Fb",
        "outputId": "43e4c6b5-cd7b-4dbe-fc66-1d441b227623"
      },
      "execution_count": 28,
      "outputs": [
        {
          "output_type": "stream",
          "name": "stdout",
          "text": [
            "10\n"
          ]
        }
      ]
    },
    {
      "cell_type": "code",
      "source": [
        "#### 83. How to find the most frequent value in an array?\n",
        "Z = np.random.randint(0,10,50)\n",
        "print(np.bincount(Z).argmax())"
      ],
      "metadata": {
        "colab": {
          "base_uri": "https://localhost:8080/"
        },
        "id": "Ggn2AhJJeKUd",
        "outputId": "ebbda755-cd94-4844-fa1d-9829120115c6"
      },
      "execution_count": 29,
      "outputs": [
        {
          "output_type": "stream",
          "name": "stdout",
          "text": [
            "9\n"
          ]
        }
      ]
    },
    {
      "cell_type": "code",
      "source": [
        "#### 84. Extract all the contiguous 3x3 blocks from a random 10x10 matrix (★★★) \n",
        "Z = np.random.randint(0,5,(10,10))\n",
        "n = 3\n",
        "i = 1 + (Z.shape[0]-3)\n",
        "j = 1 + (Z.shape[1]-3)\n",
        "C = stride_tricks.as_strided(Z, shape=(i, j, n, n), strides=Z.strides + Z.strides)\n",
        "print(C)"
      ],
      "metadata": {
        "colab": {
          "base_uri": "https://localhost:8080/"
        },
        "id": "znXa_idzeTaW",
        "outputId": "55034e5f-a1b9-4b29-b319-a14aa58d6e2d"
      },
      "execution_count": 30,
      "outputs": [
        {
          "output_type": "stream",
          "name": "stdout",
          "text": [
            "[[[[3 0 1]\n",
            "   [1 1 4]\n",
            "   [0 2 1]]\n",
            "\n",
            "  [[0 1 3]\n",
            "   [1 4 2]\n",
            "   [2 1 3]]\n",
            "\n",
            "  [[1 3 3]\n",
            "   [4 2 2]\n",
            "   [1 3 4]]\n",
            "\n",
            "  [[3 3 3]\n",
            "   [2 2 2]\n",
            "   [3 4 1]]\n",
            "\n",
            "  [[3 3 1]\n",
            "   [2 2 0]\n",
            "   [4 1 3]]\n",
            "\n",
            "  [[3 1 3]\n",
            "   [2 0 0]\n",
            "   [1 3 0]]\n",
            "\n",
            "  [[1 3 1]\n",
            "   [0 0 4]\n",
            "   [3 0 3]]\n",
            "\n",
            "  [[3 1 1]\n",
            "   [0 4 2]\n",
            "   [0 3 0]]]\n",
            "\n",
            "\n",
            " [[[1 1 4]\n",
            "   [0 2 1]\n",
            "   [2 3 2]]\n",
            "\n",
            "  [[1 4 2]\n",
            "   [2 1 3]\n",
            "   [3 2 4]]\n",
            "\n",
            "  [[4 2 2]\n",
            "   [1 3 4]\n",
            "   [2 4 4]]\n",
            "\n",
            "  [[2 2 2]\n",
            "   [3 4 1]\n",
            "   [4 4 1]]\n",
            "\n",
            "  [[2 2 0]\n",
            "   [4 1 3]\n",
            "   [4 1 4]]\n",
            "\n",
            "  [[2 0 0]\n",
            "   [1 3 0]\n",
            "   [1 4 1]]\n",
            "\n",
            "  [[0 0 4]\n",
            "   [3 0 3]\n",
            "   [4 1 0]]\n",
            "\n",
            "  [[0 4 2]\n",
            "   [0 3 0]\n",
            "   [1 0 3]]]\n",
            "\n",
            "\n",
            " [[[0 2 1]\n",
            "   [2 3 2]\n",
            "   [4 1 1]]\n",
            "\n",
            "  [[2 1 3]\n",
            "   [3 2 4]\n",
            "   [1 1 1]]\n",
            "\n",
            "  [[1 3 4]\n",
            "   [2 4 4]\n",
            "   [1 1 1]]\n",
            "\n",
            "  [[3 4 1]\n",
            "   [4 4 1]\n",
            "   [1 1 4]]\n",
            "\n",
            "  [[4 1 3]\n",
            "   [4 1 4]\n",
            "   [1 4 0]]\n",
            "\n",
            "  [[1 3 0]\n",
            "   [1 4 1]\n",
            "   [4 0 1]]\n",
            "\n",
            "  [[3 0 3]\n",
            "   [4 1 0]\n",
            "   [0 1 3]]\n",
            "\n",
            "  [[0 3 0]\n",
            "   [1 0 3]\n",
            "   [1 3 4]]]\n",
            "\n",
            "\n",
            " [[[2 3 2]\n",
            "   [4 1 1]\n",
            "   [0 3 2]]\n",
            "\n",
            "  [[3 2 4]\n",
            "   [1 1 1]\n",
            "   [3 2 3]]\n",
            "\n",
            "  [[2 4 4]\n",
            "   [1 1 1]\n",
            "   [2 3 1]]\n",
            "\n",
            "  [[4 4 1]\n",
            "   [1 1 4]\n",
            "   [3 1 3]]\n",
            "\n",
            "  [[4 1 4]\n",
            "   [1 4 0]\n",
            "   [1 3 2]]\n",
            "\n",
            "  [[1 4 1]\n",
            "   [4 0 1]\n",
            "   [3 2 0]]\n",
            "\n",
            "  [[4 1 0]\n",
            "   [0 1 3]\n",
            "   [2 0 4]]\n",
            "\n",
            "  [[1 0 3]\n",
            "   [1 3 4]\n",
            "   [0 4 0]]]\n",
            "\n",
            "\n",
            " [[[4 1 1]\n",
            "   [0 3 2]\n",
            "   [0 4 3]]\n",
            "\n",
            "  [[1 1 1]\n",
            "   [3 2 3]\n",
            "   [4 3 4]]\n",
            "\n",
            "  [[1 1 1]\n",
            "   [2 3 1]\n",
            "   [3 4 1]]\n",
            "\n",
            "  [[1 1 4]\n",
            "   [3 1 3]\n",
            "   [4 1 3]]\n",
            "\n",
            "  [[1 4 0]\n",
            "   [1 3 2]\n",
            "   [1 3 1]]\n",
            "\n",
            "  [[4 0 1]\n",
            "   [3 2 0]\n",
            "   [3 1 4]]\n",
            "\n",
            "  [[0 1 3]\n",
            "   [2 0 4]\n",
            "   [1 4 3]]\n",
            "\n",
            "  [[1 3 4]\n",
            "   [0 4 0]\n",
            "   [4 3 3]]]\n",
            "\n",
            "\n",
            " [[[0 3 2]\n",
            "   [0 4 3]\n",
            "   [3 0 3]]\n",
            "\n",
            "  [[3 2 3]\n",
            "   [4 3 4]\n",
            "   [0 3 3]]\n",
            "\n",
            "  [[2 3 1]\n",
            "   [3 4 1]\n",
            "   [3 3 1]]\n",
            "\n",
            "  [[3 1 3]\n",
            "   [4 1 3]\n",
            "   [3 1 1]]\n",
            "\n",
            "  [[1 3 2]\n",
            "   [1 3 1]\n",
            "   [1 1 1]]\n",
            "\n",
            "  [[3 2 0]\n",
            "   [3 1 4]\n",
            "   [1 1 4]]\n",
            "\n",
            "  [[2 0 4]\n",
            "   [1 4 3]\n",
            "   [1 4 1]]\n",
            "\n",
            "  [[0 4 0]\n",
            "   [4 3 3]\n",
            "   [4 1 2]]]\n",
            "\n",
            "\n",
            " [[[0 4 3]\n",
            "   [3 0 3]\n",
            "   [4 0 3]]\n",
            "\n",
            "  [[4 3 4]\n",
            "   [0 3 3]\n",
            "   [0 3 2]]\n",
            "\n",
            "  [[3 4 1]\n",
            "   [3 3 1]\n",
            "   [3 2 0]]\n",
            "\n",
            "  [[4 1 3]\n",
            "   [3 1 1]\n",
            "   [2 0 1]]\n",
            "\n",
            "  [[1 3 1]\n",
            "   [1 1 1]\n",
            "   [0 1 2]]\n",
            "\n",
            "  [[3 1 4]\n",
            "   [1 1 4]\n",
            "   [1 2 0]]\n",
            "\n",
            "  [[1 4 3]\n",
            "   [1 4 1]\n",
            "   [2 0 1]]\n",
            "\n",
            "  [[4 3 3]\n",
            "   [4 1 2]\n",
            "   [0 1 2]]]\n",
            "\n",
            "\n",
            " [[[3 0 3]\n",
            "   [4 0 3]\n",
            "   [4 1 0]]\n",
            "\n",
            "  [[0 3 3]\n",
            "   [0 3 2]\n",
            "   [1 0 2]]\n",
            "\n",
            "  [[3 3 1]\n",
            "   [3 2 0]\n",
            "   [0 2 0]]\n",
            "\n",
            "  [[3 1 1]\n",
            "   [2 0 1]\n",
            "   [2 0 1]]\n",
            "\n",
            "  [[1 1 1]\n",
            "   [0 1 2]\n",
            "   [0 1 1]]\n",
            "\n",
            "  [[1 1 4]\n",
            "   [1 2 0]\n",
            "   [1 1 3]]\n",
            "\n",
            "  [[1 4 1]\n",
            "   [2 0 1]\n",
            "   [1 3 0]]\n",
            "\n",
            "  [[4 1 2]\n",
            "   [0 1 2]\n",
            "   [3 0 0]]]]\n"
          ]
        }
      ]
    },
    {
      "cell_type": "code",
      "source": [
        "#### 85. Create a 2D array subclass such that Z\\[i,j\\] == Z\\[j,i\\] (★★★)\n",
        "class Symetric(np.ndarray):\n",
        "    def __setitem__(self, index, value):\n",
        "        i,j = index\n",
        "        super(Symetric, self).__setitem__((i,j), value)\n",
        "        super(Symetric, self).__setitem__((j,i), value)\n",
        "\n",
        "def symetric(Z):\n",
        "    return np.asarray(Z + Z.T - np.diag(Z.diagonal())).view(Symetric)\n",
        "\n",
        "S = symetric(np.random.randint(0,10,(5,5)))\n",
        "S[2,3] = 42\n",
        "print(S)"
      ],
      "metadata": {
        "colab": {
          "base_uri": "https://localhost:8080/"
        },
        "id": "B6CZXa8FesTs",
        "outputId": "8b84aedd-8a63-4330-f02c-c7f0815ea4fb"
      },
      "execution_count": 31,
      "outputs": [
        {
          "output_type": "stream",
          "name": "stdout",
          "text": [
            "[[ 1  9 14 16  2]\n",
            " [ 9  0 12  1  8]\n",
            " [14 12  1 42 10]\n",
            " [16  1 42  9  9]\n",
            " [ 2  8 10  9  8]]\n"
          ]
        }
      ]
    },
    {
      "cell_type": "code",
      "source": [
        "#### 86. Consider a set of p matrices wich shape (n,n) and a set of p vectors with shape (n,1). How to compute the sum of of the p matrix products at once? (result has shape (n,1)) (★★★) \n",
        "p, n = 10, 20\n",
        "M = np.ones((p,n,n))\n",
        "V = np.ones((p,n,1))\n",
        "S = np.tensordot(M, V, axes=[[0, 2], [0, 1]])\n",
        "print(S)\n"
      ],
      "metadata": {
        "colab": {
          "base_uri": "https://localhost:8080/"
        },
        "id": "liEV97I3fBpL",
        "outputId": "f79d9a41-289b-44dc-8eaa-225e4eb61a05"
      },
      "execution_count": 32,
      "outputs": [
        {
          "output_type": "stream",
          "name": "stdout",
          "text": [
            "[[200.]\n",
            " [200.]\n",
            " [200.]\n",
            " [200.]\n",
            " [200.]\n",
            " [200.]\n",
            " [200.]\n",
            " [200.]\n",
            " [200.]\n",
            " [200.]\n",
            " [200.]\n",
            " [200.]\n",
            " [200.]\n",
            " [200.]\n",
            " [200.]\n",
            " [200.]\n",
            " [200.]\n",
            " [200.]\n",
            " [200.]\n",
            " [200.]]\n"
          ]
        }
      ]
    },
    {
      "cell_type": "code",
      "source": [
        "#### 87. Consider a 16x16 array, how to get the block-sum (block size is 4x4)? (★★★) \n",
        "Z = np.ones((16,16))\n",
        "k = 4\n",
        "S = np.add.reduceat(np.add.reduceat(Z, np.arange(0, Z.shape[0], k), axis=0),\n",
        "                                       np.arange(0, Z.shape[1], k), axis=1)\n",
        "print(S)"
      ],
      "metadata": {
        "colab": {
          "base_uri": "https://localhost:8080/"
        },
        "id": "ujc1GYpPfL79",
        "outputId": "53965c16-7a53-4404-adc2-328aa5ea308a"
      },
      "execution_count": 33,
      "outputs": [
        {
          "output_type": "stream",
          "name": "stdout",
          "text": [
            "[[16. 16. 16. 16.]\n",
            " [16. 16. 16. 16.]\n",
            " [16. 16. 16. 16.]\n",
            " [16. 16. 16. 16.]]\n"
          ]
        }
      ]
    },
    {
      "cell_type": "code",
      "source": [
        "#### 88. How to implement the Game of Life using numpy arrays? (★★★)\n",
        "def iterate(Z):\n",
        "  \n",
        "    N = (Z[0:-2,0:-2] + Z[0:-2,1:-1] + Z[0:-2,2:] +\n",
        "         Z[1:-1,0:-2]                + Z[1:-1,2:] +\n",
        "         Z[2:  ,0:-2] + Z[2:  ,1:-1] + Z[2:  ,2:])\n",
        "\n",
        "    birth = (N==3) & (Z[1:-1,1:-1]==0)\n",
        "    survive = ((N==2) | (N==3)) & (Z[1:-1,1:-1]==1)\n",
        "    Z[...] = 0\n",
        "    Z[1:-1,1:-1][birth | survive] = 1\n",
        "    return Z\n",
        "\n",
        "Z = np.random.randint(0,2,(50,50))\n",
        "for i in range(100): Z = iterate(Z)\n",
        "print(Z)"
      ],
      "metadata": {
        "colab": {
          "base_uri": "https://localhost:8080/"
        },
        "id": "fA6ORz8Lfclh",
        "outputId": "19fb9410-f79d-40ee-8149-3784c016e60f"
      },
      "execution_count": 34,
      "outputs": [
        {
          "output_type": "stream",
          "name": "stdout",
          "text": [
            "[[0 0 0 ... 0 0 0]\n",
            " [0 0 0 ... 0 0 0]\n",
            " [0 0 0 ... 0 0 0]\n",
            " ...\n",
            " [0 0 0 ... 0 0 0]\n",
            " [0 0 0 ... 0 0 0]\n",
            " [0 0 0 ... 0 0 0]]\n"
          ]
        }
      ]
    },
    {
      "cell_type": "code",
      "source": [
        "#### 89. How to get the n largest values of an array (★★★)\n",
        "Z = np.arange(10000)\n",
        "np.random.shuffle(Z)\n",
        "n = 5\n",
        "\n",
        "print (Z[np.argsort(Z)[-n:]])"
      ],
      "metadata": {
        "colab": {
          "base_uri": "https://localhost:8080/"
        },
        "id": "wUcXi4Dlfwhw",
        "outputId": "6a2b4ed1-6ccc-4c3f-a86f-e875107da7da"
      },
      "execution_count": 35,
      "outputs": [
        {
          "output_type": "stream",
          "name": "stdout",
          "text": [
            "[9995 9996 9997 9998 9999]\n"
          ]
        }
      ]
    },
    {
      "cell_type": "code",
      "source": [
        "#### 90. Given an arbitrary number of vectors, build the cartesian product (every combinations of every item) (★★★) \n",
        "def cartesian(arrays):\n",
        "    arrays = [np.asarray(a) for a in arrays]\n",
        "    shape = (len(x) for x in arrays)\n",
        "\n",
        "    ix = np.indices(shape, dtype=int)\n",
        "    ix = ix.reshape(len(arrays), -1).T\n",
        "\n",
        "    for n, arr in enumerate(arrays):\n",
        "        ix[:, n] = arrays[n][ix[:, n]]\n",
        "\n",
        "    return ix\n",
        "\n",
        "print (cartesian(([1, 2, 3], [4, 5], [6, 7])))"
      ],
      "metadata": {
        "colab": {
          "base_uri": "https://localhost:8080/"
        },
        "id": "-TnhtEx8gDBB",
        "outputId": "218d1456-521b-4f0f-8aff-b559f60a9b8e"
      },
      "execution_count": 36,
      "outputs": [
        {
          "output_type": "stream",
          "name": "stdout",
          "text": [
            "[[1 4 6]\n",
            " [1 4 7]\n",
            " [1 5 6]\n",
            " [1 5 7]\n",
            " [2 4 6]\n",
            " [2 4 7]\n",
            " [2 5 6]\n",
            " [2 5 7]\n",
            " [3 4 6]\n",
            " [3 4 7]\n",
            " [3 5 6]\n",
            " [3 5 7]]\n"
          ]
        }
      ]
    },
    {
      "cell_type": "code",
      "source": [
        "#### 91. How to create a record array from a regular array? (★★★)\n",
        "Z = np.array([(\"Hello\", 2.5, 3),\n",
        "              (\"World\", 3.6, 2)])\n",
        "R = np.core.records.fromarrays(Z.T, \n",
        "                               names='col1, col2, col3',\n",
        "                               formats = 'S8, f8, i8')\n",
        "print(R)"
      ],
      "metadata": {
        "colab": {
          "base_uri": "https://localhost:8080/"
        },
        "id": "pVfVeyVjgNaU",
        "outputId": "f4731d2d-478f-4f5c-93c8-1a57cc33c3c8"
      },
      "execution_count": 37,
      "outputs": [
        {
          "output_type": "stream",
          "name": "stdout",
          "text": [
            "[(b'Hello', 2.5, 3) (b'World', 3.6, 2)]\n"
          ]
        }
      ]
    },
    {
      "cell_type": "code",
      "source": [
        "#### 92. Consider a large vector Z, compute Z to the power of 3 using 3 different methods (★★★) \n",
        "x = np.random.rand(5e7)\n",
        "\n",
        "%timeit np.power(x,3)\n",
        "%timeit x*x*x\n",
        "%timeit np.einsum('i,i,i->i',x,x,x)"
      ],
      "metadata": {
        "colab": {
          "base_uri": "https://localhost:8080/",
          "height": 339
        },
        "id": "ZdVGb__ggdkB",
        "outputId": "fd25f979-f8ef-4b50-e5fa-550b2b75767d"
      },
      "execution_count": 38,
      "outputs": [
        {
          "output_type": "error",
          "ename": "TypeError",
          "evalue": "ignored",
          "traceback": [
            "\u001b[0;31m---------------------------------------------------------------------------\u001b[0m",
            "\u001b[0;31mTypeError\u001b[0m                                 Traceback (most recent call last)",
            "\u001b[0;32m<ipython-input-38-dbe48f4f7866>\u001b[0m in \u001b[0;36m<module>\u001b[0;34m\u001b[0m\n\u001b[1;32m      1\u001b[0m \u001b[0;31m#### 92. Consider a large vector Z, compute Z to the power of 3 using 3 different methods (★★★)\u001b[0m\u001b[0;34m\u001b[0m\u001b[0;34m\u001b[0m\u001b[0;34m\u001b[0m\u001b[0m\n\u001b[0;32m----> 2\u001b[0;31m \u001b[0mx\u001b[0m \u001b[0;34m=\u001b[0m \u001b[0mnp\u001b[0m\u001b[0;34m.\u001b[0m\u001b[0mrandom\u001b[0m\u001b[0;34m.\u001b[0m\u001b[0mrand\u001b[0m\u001b[0;34m(\u001b[0m\u001b[0;36m5e7\u001b[0m\u001b[0;34m)\u001b[0m\u001b[0;34m\u001b[0m\u001b[0;34m\u001b[0m\u001b[0m\n\u001b[0m\u001b[1;32m      3\u001b[0m \u001b[0;34m\u001b[0m\u001b[0m\n\u001b[1;32m      4\u001b[0m \u001b[0mget_ipython\u001b[0m\u001b[0;34m(\u001b[0m\u001b[0;34m)\u001b[0m\u001b[0;34m.\u001b[0m\u001b[0mrun_line_magic\u001b[0m\u001b[0;34m(\u001b[0m\u001b[0;34m'timeit'\u001b[0m\u001b[0;34m,\u001b[0m \u001b[0;34m'np.power(x,3)'\u001b[0m\u001b[0;34m)\u001b[0m\u001b[0;34m\u001b[0m\u001b[0;34m\u001b[0m\u001b[0m\n\u001b[1;32m      5\u001b[0m \u001b[0mget_ipython\u001b[0m\u001b[0;34m(\u001b[0m\u001b[0;34m)\u001b[0m\u001b[0;34m.\u001b[0m\u001b[0mrun_line_magic\u001b[0m\u001b[0;34m(\u001b[0m\u001b[0;34m'timeit'\u001b[0m\u001b[0;34m,\u001b[0m \u001b[0;34m'x*x*x'\u001b[0m\u001b[0;34m)\u001b[0m\u001b[0;34m\u001b[0m\u001b[0;34m\u001b[0m\u001b[0m\n",
            "\u001b[0;32mmtrand.pyx\u001b[0m in \u001b[0;36mnumpy.random.mtrand.RandomState.rand\u001b[0;34m()\u001b[0m\n",
            "\u001b[0;32mmtrand.pyx\u001b[0m in \u001b[0;36mnumpy.random.mtrand.RandomState.random_sample\u001b[0;34m()\u001b[0m\n",
            "\u001b[0;32m_common.pyx\u001b[0m in \u001b[0;36mnumpy.random._common.double_fill\u001b[0;34m()\u001b[0m\n",
            "\u001b[0;31mTypeError\u001b[0m: 'float' object cannot be interpreted as an integer"
          ]
        }
      ]
    },
    {
      "cell_type": "code",
      "source": [
        "#### 93. Consider two arrays A and B of shape (8,3) and (2,2). How to find rows of A that contain elements of each row of B regardless of the order of the elements in B? (★★★)\n",
        "A = np.random.randint(0,5,(8,3))\n",
        "B = np.random.randint(0,5,(2,2))\n",
        "\n",
        "C = (A[..., np.newaxis, np.newaxis] == B)\n",
        "rows = np.where(C.any((3,1)).all(1))[0]\n",
        "print(rows)"
      ],
      "metadata": {
        "colab": {
          "base_uri": "https://localhost:8080/"
        },
        "id": "xKW6yK4egyU2",
        "outputId": "5e824179-55d0-4ad3-a5c4-b1bc84400379"
      },
      "execution_count": 39,
      "outputs": [
        {
          "output_type": "stream",
          "name": "stdout",
          "text": [
            "[1 2 4 5]\n"
          ]
        }
      ]
    },
    {
      "cell_type": "code",
      "source": [
        "#### 94. Considering a 10x3 matrix, extract rows with unequal values (e.g. \\[2,2,3\\]) (★★★)\n",
        "Z = np.random.randint(0,5,(10,3))\n",
        "print(Z)\n",
        "E = np.all(Z[:,1:] == Z[:,:-1], axis=1)\n",
        "U = Z[~E]\n",
        "print(U)\n",
        "U = Z[Z.max(axis=1) != Z.min(axis=1),:]\n",
        "print(U)"
      ],
      "metadata": {
        "colab": {
          "base_uri": "https://localhost:8080/"
        },
        "id": "VhTKzcxMg59K",
        "outputId": "e01fd722-334a-4c05-f807-931c6317ed54"
      },
      "execution_count": 40,
      "outputs": [
        {
          "output_type": "stream",
          "name": "stdout",
          "text": [
            "[[2 2 0]\n",
            " [1 3 2]\n",
            " [0 1 3]\n",
            " [4 1 3]\n",
            " [4 4 3]\n",
            " [0 1 2]\n",
            " [4 1 0]\n",
            " [2 3 1]\n",
            " [1 0 0]\n",
            " [3 3 4]]\n",
            "[[2 2 0]\n",
            " [1 3 2]\n",
            " [0 1 3]\n",
            " [4 1 3]\n",
            " [4 4 3]\n",
            " [0 1 2]\n",
            " [4 1 0]\n",
            " [2 3 1]\n",
            " [1 0 0]\n",
            " [3 3 4]]\n",
            "[[2 2 0]\n",
            " [1 3 2]\n",
            " [0 1 3]\n",
            " [4 1 3]\n",
            " [4 4 3]\n",
            " [0 1 2]\n",
            " [4 1 0]\n",
            " [2 3 1]\n",
            " [1 0 0]\n",
            " [3 3 4]]\n"
          ]
        }
      ]
    },
    {
      "cell_type": "code",
      "source": [
        "#### 95. Convert a vector of ints into a matrix binary representation (★★★)\n",
        "I = np.array([0, 1, 2, 3, 15, 16, 32, 64, 128])\n",
        "B = ((I.reshape(-1,1) & (2**np.arange(8))) != 0).astype(int)\n",
        "print(B[:,::-1])\n",
        "\n",
        "I = np.array([0, 1, 2, 3, 15, 16, 32, 64, 128], dtype=np.uint8)\n",
        "print(np.unpackbits(I[:, np.newaxis], axis=1))"
      ],
      "metadata": {
        "colab": {
          "base_uri": "https://localhost:8080/"
        },
        "id": "tghawd4YhOEE",
        "outputId": "6f030702-2751-4a5b-c371-b668d1724c36"
      },
      "execution_count": 41,
      "outputs": [
        {
          "output_type": "stream",
          "name": "stdout",
          "text": [
            "[[0 0 0 0 0 0 0 0]\n",
            " [0 0 0 0 0 0 0 1]\n",
            " [0 0 0 0 0 0 1 0]\n",
            " [0 0 0 0 0 0 1 1]\n",
            " [0 0 0 0 1 1 1 1]\n",
            " [0 0 0 1 0 0 0 0]\n",
            " [0 0 1 0 0 0 0 0]\n",
            " [0 1 0 0 0 0 0 0]\n",
            " [1 0 0 0 0 0 0 0]]\n",
            "[[0 0 0 0 0 0 0 0]\n",
            " [0 0 0 0 0 0 0 1]\n",
            " [0 0 0 0 0 0 1 0]\n",
            " [0 0 0 0 0 0 1 1]\n",
            " [0 0 0 0 1 1 1 1]\n",
            " [0 0 0 1 0 0 0 0]\n",
            " [0 0 1 0 0 0 0 0]\n",
            " [0 1 0 0 0 0 0 0]\n",
            " [1 0 0 0 0 0 0 0]]\n"
          ]
        }
      ]
    },
    {
      "cell_type": "code",
      "source": [
        "#### 96. Given a two dimensional array, how to extract unique rows? (★★★)\n",
        "Z = np.random.randint(0,2,(6,3))\n",
        "T = np.ascontiguousarray(Z).view(np.dtype((np.void, Z.dtype.itemsize * Z.shape[1])))\n",
        "_, idx = np.unique(T, return_index=True)\n",
        "uZ = Z[idx]\n",
        "print(uZ)\n",
        "uZ = np.unique(Z, axis=0)\n",
        "print(uZ)"
      ],
      "metadata": {
        "colab": {
          "base_uri": "https://localhost:8080/"
        },
        "id": "cRx3ZOmnhdYs",
        "outputId": "538be026-381d-4e6e-ba1a-ea33c93cf8cd"
      },
      "execution_count": 42,
      "outputs": [
        {
          "output_type": "stream",
          "name": "stdout",
          "text": [
            "[[0 0 0]\n",
            " [0 0 1]\n",
            " [0 1 0]\n",
            " [1 0 1]\n",
            " [1 1 0]]\n",
            "[[0 0 0]\n",
            " [0 0 1]\n",
            " [0 1 0]\n",
            " [1 0 1]\n",
            " [1 1 0]]\n"
          ]
        }
      ]
    },
    {
      "cell_type": "code",
      "source": [
        "#### 97. Considering 2 vectors A & B, write the einsum equivalent of inner, outer, sum, and mul function (★★★) \n",
        "A = np.random.uniform(0,1,10)\n",
        "B = np.random.uniform(0,1,10)\n",
        "\n",
        "np.einsum('i->', A)       \n",
        "np.einsum('i,i->i', A, B) \n",
        "np.einsum('i,i', A, B)    \n",
        "np.einsum('i,j->ij', A, B)"
      ],
      "metadata": {
        "colab": {
          "base_uri": "https://localhost:8080/"
        },
        "id": "8y46yakvh2bq",
        "outputId": "4f5077d3-0116-4092-f0ed-4a4270ab734c"
      },
      "execution_count": 43,
      "outputs": [
        {
          "output_type": "execute_result",
          "data": {
            "text/plain": [
              "array([[0.13204472, 0.08677738, 0.14662607, 0.0201398 , 0.12264153,\n",
              "        0.10304362, 0.04625793, 0.00921164, 0.03796394, 0.04964087],\n",
              "       [0.06432192, 0.04227119, 0.07142482, 0.00981055, 0.05974142,\n",
              "        0.05019484, 0.02253326, 0.0044872 , 0.01849308, 0.02418117],\n",
              "       [0.2668342 , 0.17535856, 0.2963    , 0.04069824, 0.24783237,\n",
              "        0.20822916, 0.0934774 , 0.01861477, 0.07671701, 0.1003136 ],\n",
              "       [0.46725113, 0.3070689 , 0.51884844, 0.07126635, 0.43397717,\n",
              "        0.36462834, 0.16368749, 0.03259616, 0.13433852, 0.17565829],\n",
              "       [0.48894835, 0.32132791, 0.54294163, 0.07457566, 0.45412928,\n",
              "        0.38156017, 0.17128846, 0.03410979, 0.14057664, 0.18381514],\n",
              "       [0.03953297, 0.02598034, 0.04389849, 0.00602967, 0.03671774,\n",
              "        0.03085031, 0.0138492 , 0.00275788, 0.01136605, 0.01486202],\n",
              "       [0.05461848, 0.03589427, 0.06064985, 0.00833055, 0.05072898,\n",
              "        0.04262257, 0.01913395, 0.00381027, 0.01570326, 0.02053326],\n",
              "       [0.2189697 , 0.14390289, 0.24314995, 0.03339782, 0.2033764 ,\n",
              "        0.17087719, 0.0767095 , 0.01527566, 0.06295558, 0.08231943],\n",
              "       [0.57001237, 0.37460171, 0.63295734, 0.08693976, 0.52942057,\n",
              "        0.44482004, 0.19968682, 0.03976494, 0.16388321, 0.21429034],\n",
              "       [0.67691868, 0.44485858, 0.75166903, 0.10324539, 0.62871384,\n",
              "        0.52824641, 0.23713825, 0.04722289, 0.19461965, 0.25448067]])"
            ]
          },
          "metadata": {},
          "execution_count": 43
        }
      ]
    },
    {
      "cell_type": "code",
      "source": [
        "#### 98. Considering a path described by two vectors (X,Y), how to sample it using equidistant samples (★★★)? \n",
        "phi = np.arange(0, 10*np.pi, 0.1)\n",
        "a = 1\n",
        "x = a*phi*np.cos(phi)\n",
        "y = a*phi*np.sin(phi)\n",
        "\n",
        "dr = (np.diff(x)**2 + np.diff(y)**2)**.5 \n",
        "r = np.zeros_like(x)\n",
        "r[1:] = np.cumsum(dr)                \n",
        "r_int = np.linspace(0, r.max(), 200) \n",
        "x_int = np.interp(r_int, r, x)       \n",
        "y_int = np.interp(r_int, r, y)\n"
      ],
      "metadata": {
        "id": "JQb0H8hFiL2X"
      },
      "execution_count": 44,
      "outputs": []
    },
    {
      "cell_type": "code",
      "source": [
        "#### 99. Given an integer n and a 2D array X, select from X the rows which can be interpreted as draws from a multinomial distribution with n degrees, i.e., the rows which only contain integers and which sum to n. (★★★) \n",
        "X = np.asarray([[1.0, 0.0, 3.0, 8.0],\n",
        "                [2.0, 0.0, 1.0, 1.0],\n",
        "                [1.5, 2.5, 1.0, 0.0]])\n",
        "n = 4\n",
        "M = np.logical_and.reduce(np.mod(X, 1) == 0, axis=-1)\n",
        "M &= (X.sum(axis=-1) == n)\n",
        "print(X[M])"
      ],
      "metadata": {
        "colab": {
          "base_uri": "https://localhost:8080/"
        },
        "id": "wucsdzQIikUq",
        "outputId": "409d5984-445f-4754-e657-4d6a10ca5f85"
      },
      "execution_count": 45,
      "outputs": [
        {
          "output_type": "stream",
          "name": "stdout",
          "text": [
            "[[2. 0. 1. 1.]]\n"
          ]
        }
      ]
    },
    {
      "cell_type": "code",
      "source": [
        "#### 100. Compute bootstrapped 95% confidence intervals for the mean of a 1D array X (i.e., resample the elements of an array with replacement N times, compute the mean of each sample, and then compute percentiles over the means). (★★★) \n",
        "X = np.random.randn(100) \n",
        "N = 1000 \n",
        "idx = np.random.randint(0, X.size, (N, X.size))\n",
        "means = X[idx].mean(axis=1)\n",
        "confint = np.percentile(means, [2.5, 97.5])\n",
        "print(confint)"
      ],
      "metadata": {
        "colab": {
          "base_uri": "https://localhost:8080/"
        },
        "id": "SWRXvtFvivLX",
        "outputId": "66e16ebe-fd81-469e-de9a-b0e842698525"
      },
      "execution_count": 46,
      "outputs": [
        {
          "output_type": "stream",
          "name": "stdout",
          "text": [
            "[-0.17700018  0.2255351 ]\n"
          ]
        }
      ]
    }
  ]
}